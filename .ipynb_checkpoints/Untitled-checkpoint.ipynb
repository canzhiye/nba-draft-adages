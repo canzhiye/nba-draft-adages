{
 "cells": [
  {
   "cell_type": "code",
   "execution_count": 42,
   "metadata": {
    "collapsed": false
   },
   "outputs": [
    {
     "name": "stdout",
     "output_type": "stream",
     "text": [
      "Populating the interactive namespace from numpy and matplotlib\n"
     ]
    },
    {
     "name": "stderr",
     "output_type": "stream",
     "text": [
      "WARNING: pylab import has clobbered these variables: ['f']\n",
      "`%matplotlib` prevents importing * from pylab and numpy\n"
     ]
    }
   ],
   "source": [
    "from datascience import Table\n",
    "%pylab inline\n",
    "import csv\n",
    "import numpy as np"
   ]
  },
  {
   "cell_type": "code",
   "execution_count": 19,
   "metadata": {
    "collapsed": false
   },
   "outputs": [],
   "source": [
    "draft_data = None\n",
    "\n",
    "for i in range(1999, 2016):\n",
    "    with open('data/drafts/draft_NBA_' + str(i) + '_stats.csv', 'rt', encoding='ascii') as f:\n",
    "        reader = csv.reader(f)\n",
    "        j = 0\n",
    "        for row in reader:\n",
    "            if j == 0 and i == 1999:\n",
    "                draft_data = Table(['Year'] + row)\n",
    "            else:\n",
    "                draft_data = draft_data.with_row([str(i)] + row)\n",
    "            j += 1\n",
    "            \n",
    "anthro_data = None\n",
    "\n",
    "for i in range(2000, 2012):\n",
    "    with open('data/combines/anthro_' + str(i) + '.csv', 'rt', encoding='ascii') as f:\n",
    "        reader = csv.reader(f)\n",
    "        j = 0\n",
    "        for row in reader:\n",
    "            if j == 0 and i == 2000:\n",
    "                anthro_data = Table(['Year'] + row)\n",
    "            else:\n",
    "                if row[5] != 'POSITION':\n",
    "                    anthro_data = anthro_data.with_row([str(i)] + row)\n",
    "                else:\n",
    "                    j-=1\n",
    "            j += 1"
   ]
  },
  {
   "cell_type": "code",
   "execution_count": null,
   "metadata": {
    "collapsed": false
   },
   "outputs": [],
   "source": []
  },
  {
   "cell_type": "code",
   "execution_count": null,
   "metadata": {
    "collapsed": false
   },
   "outputs": [],
   "source": []
  },
  {
   "cell_type": "code",
   "execution_count": 20,
   "metadata": {
    "collapsed": false
   },
   "outputs": [
    {
     "data": {
      "text/html": [
       "<table border=\"1\" class=\"dataframe\">\n",
       "    <thead>\n",
       "        <tr>\n",
       "            <th>Year</th> <th>Rk</th> <th>Pk</th> <th>Tm</th> <th>Player</th> <th>College</th> <th>Yrs</th> <th>G</th> <th>MP</th> <th>PTS</th> <th>TRB</th> <th>AST</th> <th>FG%</th> <th>3P%</th> <th>FT%</th> <th>WS</th> <th>WS/48</th> <th>BPM</th> <th>VORP</th>\n",
       "        </tr>\n",
       "    </thead>\n",
       "    <tbody>\n",
       "        <tr>\n",
       "            <td>1999</td> <td>1   </td> <td>1   </td> <td>CHI </td> <td>Elton Brand     </td> <td>Duke University                     </td> <td>17  </td> <td>1058</td> <td>34910</td> <td>16827</td> <td>9040 </td> <td>2184</td> <td>.500</td> <td>.095</td> <td>.736</td> <td>33.0</td> <td>15.9 </td> <td>8.5 </td> <td>2.1 </td>\n",
       "        </tr>\n",
       "    </tbody>\n",
       "        <tr>\n",
       "            <td>1999</td> <td>2   </td> <td>2   </td> <td>VAN </td> <td>Steve Francis   </td> <td>University of Maryland              </td> <td>9   </td> <td>576 </td> <td>21632</td> <td>10446</td> <td>3215 </td> <td>3473</td> <td>.429</td> <td>.341</td> <td>.797</td> <td>37.6</td> <td>18.1 </td> <td>5.6 </td> <td>6.0 </td>\n",
       "        </tr>\n",
       "    </tbody>\n",
       "        <tr>\n",
       "            <td>1999</td> <td>3   </td> <td>3   </td> <td>CHH </td> <td>Baron Davis     </td> <td>University of California Los Angeles</td> <td>13  </td> <td>835 </td> <td>28592</td> <td>13447</td> <td>3183 </td> <td>6025</td> <td>.409</td> <td>.320</td> <td>.711</td> <td>34.2</td> <td>16.1 </td> <td>3.8 </td> <td>7.2 </td>\n",
       "        </tr>\n",
       "    </tbody>\n",
       "        <tr>\n",
       "            <td>1999</td> <td>4   </td> <td>4   </td> <td>LAC </td> <td>Lamar Odom      </td> <td>University of Rhode Island          </td> <td>14  </td> <td>961 </td> <td>32131</td> <td>12781</td> <td>8059 </td> <td>3554</td> <td>.463</td> <td>.312</td> <td>.693</td> <td>33.4</td> <td>13.3 </td> <td>8.4 </td> <td>3.7 </td>\n",
       "        </tr>\n",
       "    </tbody>\n",
       "        <tr>\n",
       "            <td>1999</td> <td>5   </td> <td>5   </td> <td>TOR </td> <td>Jonathan Bender </td> <td>                                    </td> <td>8   </td> <td>262 </td> <td>3847 </td> <td>1453 </td> <td>582  </td> <td>170 </td> <td>.417</td> <td>.340</td> <td>.763</td> <td>14.7</td> <td>5.5  </td> <td>2.2 </td> <td>0.6 </td>\n",
       "        </tr>\n",
       "    </tbody>\n",
       "        <tr>\n",
       "            <td>1999</td> <td>6   </td> <td>6   </td> <td>MIN </td> <td>Wally Szczerbiak</td> <td>Miami University                    </td> <td>10  </td> <td>651 </td> <td>20052</td> <td>9195 </td> <td>2602 </td> <td>1532</td> <td>.485</td> <td>.406</td> <td>.860</td> <td>30.8</td> <td>14.1 </td> <td>4.0 </td> <td>2.4 </td>\n",
       "        </tr>\n",
       "    </tbody>\n",
       "        <tr>\n",
       "            <td>1999</td> <td>7   </td> <td>7   </td> <td>WAS </td> <td>Richard Hamilton</td> <td>University of Connecticut           </td> <td>14  </td> <td>921 </td> <td>29559</td> <td>15708</td> <td>2852 </td> <td>3125</td> <td>.449</td> <td>.346</td> <td>.852</td> <td>32.1</td> <td>17.1 </td> <td>3.1 </td> <td>3.4 </td>\n",
       "        </tr>\n",
       "    </tbody>\n",
       "        <tr>\n",
       "            <td>1999</td> <td>8   </td> <td>8   </td> <td>CLE </td> <td>Andre Miller    </td> <td>University of Utah                  </td> <td>17  </td> <td>1304</td> <td>40268</td> <td>16278</td> <td>4795 </td> <td>8524</td> <td>.461</td> <td>.217</td> <td>.807</td> <td>30.9</td> <td>12.5 </td> <td>3.7 </td> <td>6.5 </td>\n",
       "        </tr>\n",
       "    </tbody>\n",
       "        <tr>\n",
       "            <td>1999</td> <td>9   </td> <td>9   </td> <td>PHO </td> <td>Shawn Marion    </td> <td>University of Nevada Las Vegas      </td> <td>16  </td> <td>1163</td> <td>40097</td> <td>17700</td> <td>10101</td> <td>2198</td> <td>.484</td> <td>.331</td> <td>.810</td> <td>34.5</td> <td>15.2 </td> <td>8.7 </td> <td>1.9 </td>\n",
       "        </tr>\n",
       "    </tbody>\n",
       "        <tr>\n",
       "            <td>1999</td> <td>10  </td> <td>10  </td> <td>ATL </td> <td>Jason Terry     </td> <td>University of Arizona               </td> <td>17  </td> <td>1285</td> <td>39855</td> <td>18408</td> <td>3120 </td> <td>5258</td> <td>.444</td> <td>.379</td> <td>.845</td> <td>31.0</td> <td>14.3 </td> <td>2.4 </td> <td>4.1 </td>\n",
       "        </tr>\n",
       "    </tbody>\n",
       "</table>\n",
       "<p>... (1015 rows omitted)</p"
      ],
      "text/plain": [
       "Year | Rk   | Pk   | Tm   | Player           | College                              | Yrs  | G    | MP    | PTS   | TRB   | AST  | FG%  | 3P%  | FT%  | WS   | WS/48 | BPM  | VORP\n",
       "1999 | 1    | 1    | CHI  | Elton Brand      | Duke University                      | 17   | 1058 | 34910 | 16827 | 9040  | 2184 | .500 | .095 | .736 | 33.0 | 15.9  | 8.5  | 2.1\n",
       "1999 | 2    | 2    | VAN  | Steve Francis    | University of Maryland               | 9    | 576  | 21632 | 10446 | 3215  | 3473 | .429 | .341 | .797 | 37.6 | 18.1  | 5.6  | 6.0\n",
       "1999 | 3    | 3    | CHH  | Baron Davis      | University of California Los Angeles | 13   | 835  | 28592 | 13447 | 3183  | 6025 | .409 | .320 | .711 | 34.2 | 16.1  | 3.8  | 7.2\n",
       "1999 | 4    | 4    | LAC  | Lamar Odom       | University of Rhode Island           | 14   | 961  | 32131 | 12781 | 8059  | 3554 | .463 | .312 | .693 | 33.4 | 13.3  | 8.4  | 3.7\n",
       "1999 | 5    | 5    | TOR  | Jonathan Bender  |                                      | 8    | 262  | 3847  | 1453  | 582   | 170  | .417 | .340 | .763 | 14.7 | 5.5   | 2.2  | 0.6\n",
       "1999 | 6    | 6    | MIN  | Wally Szczerbiak | Miami University                     | 10   | 651  | 20052 | 9195  | 2602  | 1532 | .485 | .406 | .860 | 30.8 | 14.1  | 4.0  | 2.4\n",
       "1999 | 7    | 7    | WAS  | Richard Hamilton | University of Connecticut            | 14   | 921  | 29559 | 15708 | 2852  | 3125 | .449 | .346 | .852 | 32.1 | 17.1  | 3.1  | 3.4\n",
       "1999 | 8    | 8    | CLE  | Andre Miller     | University of Utah                   | 17   | 1304 | 40268 | 16278 | 4795  | 8524 | .461 | .217 | .807 | 30.9 | 12.5  | 3.7  | 6.5\n",
       "1999 | 9    | 9    | PHO  | Shawn Marion     | University of Nevada Las Vegas       | 16   | 1163 | 40097 | 17700 | 10101 | 2198 | .484 | .331 | .810 | 34.5 | 15.2  | 8.7  | 1.9\n",
       "1999 | 10   | 10   | ATL  | Jason Terry      | University of Arizona                | 17   | 1285 | 39855 | 18408 | 3120  | 5258 | .444 | .379 | .845 | 31.0 | 14.3  | 2.4  | 4.1\n",
       "... (1015 rows omitted)"
      ]
     },
     "execution_count": 20,
     "metadata": {},
     "output_type": "execute_result"
    }
   ],
   "source": [
    "draft_data"
   ]
  },
  {
   "cell_type": "code",
   "execution_count": 21,
   "metadata": {
    "collapsed": false
   },
   "outputs": [
    {
     "data": {
      "text/html": [
       "<table border=\"1\" class=\"dataframe\">\n",
       "    <thead>\n",
       "        <tr>\n",
       "            <th>Year</th> <th>TEMP_PLAYER_ID</th> <th>PLAYER_ID</th> <th>FIRST_NAME</th> <th>LAST_NAME</th> <th>PLAYER_NAME</th> <th>POSITION</th> <th>HEIGHT_WO_SHOES</th> <th>HEIGHT_WO_SHOES_FT_IN</th> <th>HEIGHT_W_SHOES</th> <th>HEIGHT_W_SHOES_FT_IN</th> <th>WEIGHT</th> <th>WINGSPAN</th> <th>WINGSPAN_FT_IN</th> <th>STANDING_REACH</th> <th>STANDING_REACH_FT_IN</th> <th>BODY_FAT_PCT</th> <th>HAND_LENGTH</th> <th>HAND_WIDTH</th>\n",
       "        </tr>\n",
       "    </thead>\n",
       "    <tbody>\n",
       "        <tr>\n",
       "            <td>2000</td> <td>              </td> <td>2124     </td> <td>Malik     </td> <td>Allen    </td> <td>Malik Allen     </td> <td>PF-C    </td> <td>80.25          </td> <td>6' 8.25''            </td> <td>              </td> <td>                    </td> <td>271   </td> <td>86.5    </td> <td>7' 2.5''      </td> <td>109.0         </td> <td>9' 1''              </td> <td>            </td> <td>           </td> <td>          </td>\n",
       "        </tr>\n",
       "    </tbody>\n",
       "        <tr>\n",
       "            <td>2000</td> <td>              </td> <td>12019    </td> <td>Harold    </td> <td>Arceneaux</td> <td>Harold Arceneaux</td> <td>SG-SF   </td> <td>76.5           </td> <td>6' 4.5''             </td> <td>              </td> <td>                    </td> <td>219   </td> <td>80.5    </td> <td>6' 8.5''      </td> <td>103.0         </td> <td>8' 7''              </td> <td>            </td> <td>           </td> <td>          </td>\n",
       "        </tr>\n",
       "    </tbody>\n",
       "        <tr>\n",
       "            <td>2000</td> <td>              </td> <td>12020    </td> <td>Lamont    </td> <td>Barnes   </td> <td>Lamont Barnes   </td> <td>PF-C    </td> <td>80.5           </td> <td>6' 8.5''             </td> <td>              </td> <td>                    </td> <td>235.5 </td> <td>87.5    </td> <td>7' 3.5''      </td> <td>108.0         </td> <td>9' 0''              </td> <td>            </td> <td>           </td> <td>          </td>\n",
       "        </tr>\n",
       "    </tbody>\n",
       "        <tr>\n",
       "            <td>2000</td> <td>              </td> <td>12131    </td> <td>Mario     </td> <td>Bland    </td> <td>Mario Bland     </td> <td>PF      </td> <td>77.5           </td> <td>6' 5.5''             </td> <td>              </td> <td>                    </td> <td>287   </td> <td>84.0    </td> <td>7' 0''        </td> <td>103.0         </td> <td>8' 7''              </td> <td>            </td> <td>           </td> <td>          </td>\n",
       "        </tr>\n",
       "    </tbody>\n",
       "        <tr>\n",
       "            <td>2000</td> <td>              </td> <td>2056     </td> <td>Primoz    </td> <td>Brezec   </td> <td>Primoz Brezec   </td> <td>C       </td> <td>84.75          </td> <td>7' 0.75''            </td> <td>              </td> <td>                    </td> <td>243   </td> <td>86.0    </td> <td>7' 2''        </td> <td>110.0         </td> <td>9' 2''              </td> <td>            </td> <td>           </td> <td>          </td>\n",
       "        </tr>\n",
       "    </tbody>\n",
       "        <tr>\n",
       "            <td>2000</td> <td>              </td> <td>2081     </td> <td>Ernest    </td> <td>Brown    </td> <td>Ernest Brown    </td> <td>C       </td> <td>82.0           </td> <td>6' 10''              </td> <td>              </td> <td>                    </td> <td>222.5 </td> <td>85.25   </td> <td>7' 1.25''     </td> <td>109.5         </td> <td>9' 1.5''            </td> <td>            </td> <td>           </td> <td>          </td>\n",
       "        </tr>\n",
       "    </tbody>\n",
       "        <tr>\n",
       "            <td>2000</td> <td>              </td> <td>2049     </td> <td>Speedy    </td> <td>Claxton  </td> <td>Speedy Claxton  </td> <td>PG      </td> <td>70.5           </td> <td>5' 10.5''            </td> <td>              </td> <td>                    </td> <td>166   </td> <td>72.0    </td> <td>6' 0''        </td> <td>94.5          </td> <td>7' 10.5''           </td> <td>            </td> <td>           </td> <td>          </td>\n",
       "        </tr>\n",
       "    </tbody>\n",
       "        <tr>\n",
       "            <td>2000</td> <td>              </td> <td>12132    </td> <td>Eric      </td> <td>Coley    </td> <td>Eric Coley      </td> <td>SG-SF   </td> <td>76.0           </td> <td>6' 4''               </td> <td>              </td> <td>                    </td> <td>205   </td> <td>83.0    </td> <td>6' 11''       </td> <td>102.0         </td> <td>8' 6''              </td> <td>            </td> <td>           </td> <td>          </td>\n",
       "        </tr>\n",
       "    </tbody>\n",
       "        <tr>\n",
       "            <td>2000</td> <td>              </td> <td>12133    </td> <td>Ed        </td> <td>Cota     </td> <td>Ed Cota         </td> <td>PG      </td> <td>72.25          </td> <td>6' 0.25''            </td> <td>              </td> <td>                    </td> <td>189   </td> <td>76.0    </td> <td>6' 4''        </td> <td>96.5          </td> <td>8' 0.5''            </td> <td>            </td> <td>           </td> <td>          </td>\n",
       "        </tr>\n",
       "    </tbody>\n",
       "        <tr>\n",
       "            <td>2000</td> <td>              </td> <td>12134    </td> <td>Schea     </td> <td>Cotton   </td> <td>Schea Cotton    </td> <td>SF      </td> <td>76.25          </td> <td>6' 4.25''            </td> <td>              </td> <td>                    </td> <td>219.5 </td> <td>79.0    </td> <td>6' 7''        </td> <td>100.0         </td> <td>8' 4''              </td> <td>            </td> <td>           </td> <td>          </td>\n",
       "        </tr>\n",
       "    </tbody>\n",
       "</table>\n",
       "<p>... (836 rows omitted)</p"
      ],
      "text/plain": [
       "Year | TEMP_PLAYER_ID | PLAYER_ID | FIRST_NAME | LAST_NAME | PLAYER_NAME      | POSITION | HEIGHT_WO_SHOES | HEIGHT_WO_SHOES_FT_IN | HEIGHT_W_SHOES | HEIGHT_W_SHOES_FT_IN | WEIGHT | WINGSPAN | WINGSPAN_FT_IN | STANDING_REACH | STANDING_REACH_FT_IN | BODY_FAT_PCT | HAND_LENGTH | HAND_WIDTH\n",
       "2000 |                | 2124      | Malik      | Allen     | Malik Allen      | PF-C     | 80.25           | 6' 8.25''             |                |                      | 271    | 86.5     | 7' 2.5''       | 109.0          | 9' 1''               |              |             |\n",
       "2000 |                | 12019     | Harold     | Arceneaux | Harold Arceneaux | SG-SF    | 76.5            | 6' 4.5''              |                |                      | 219    | 80.5     | 6' 8.5''       | 103.0          | 8' 7''               |              |             |\n",
       "2000 |                | 12020     | Lamont     | Barnes    | Lamont Barnes    | PF-C     | 80.5            | 6' 8.5''              |                |                      | 235.5  | 87.5     | 7' 3.5''       | 108.0          | 9' 0''               |              |             |\n",
       "2000 |                | 12131     | Mario      | Bland     | Mario Bland      | PF       | 77.5            | 6' 5.5''              |                |                      | 287    | 84.0     | 7' 0''         | 103.0          | 8' 7''               |              |             |\n",
       "2000 |                | 2056      | Primoz     | Brezec    | Primoz Brezec    | C        | 84.75           | 7' 0.75''             |                |                      | 243    | 86.0     | 7' 2''         | 110.0          | 9' 2''               |              |             |\n",
       "2000 |                | 2081      | Ernest     | Brown     | Ernest Brown     | C        | 82.0            | 6' 10''               |                |                      | 222.5  | 85.25    | 7' 1.25''      | 109.5          | 9' 1.5''             |              |             |\n",
       "2000 |                | 2049      | Speedy     | Claxton   | Speedy Claxton   | PG       | 70.5            | 5' 10.5''             |                |                      | 166    | 72.0     | 6' 0''         | 94.5           | 7' 10.5''            |              |             |\n",
       "2000 |                | 12132     | Eric       | Coley     | Eric Coley       | SG-SF    | 76.0            | 6' 4''                |                |                      | 205    | 83.0     | 6' 11''        | 102.0          | 8' 6''               |              |             |\n",
       "2000 |                | 12133     | Ed         | Cota      | Ed Cota          | PG       | 72.25           | 6' 0.25''             |                |                      | 189    | 76.0     | 6' 4''         | 96.5           | 8' 0.5''             |              |             |\n",
       "2000 |                | 12134     | Schea      | Cotton    | Schea Cotton     | SF       | 76.25           | 6' 4.25''             |                |                      | 219.5  | 79.0     | 6' 7''         | 100.0          | 8' 4''               |              |             |\n",
       "... (836 rows omitted)"
      ]
     },
     "execution_count": 21,
     "metadata": {},
     "output_type": "execute_result"
    }
   ],
   "source": [
    "anthro_data"
   ]
  },
  {
   "cell_type": "code",
   "execution_count": null,
   "metadata": {
    "collapsed": false
   },
   "outputs": [],
   "source": []
  },
  {
   "cell_type": "code",
   "execution_count": 22,
   "metadata": {
    "collapsed": false
   },
   "outputs": [],
   "source": [
    "anthro_data = anthro_data.where(anthro_data.column(\"HEIGHT_WO_SHOES\") != \"\")\n",
    "anthro_data['BMI'] = np.divide(anthro_data.apply(lambda x: float(x),'WEIGHT'), (anthro_data.apply(lambda x: float(x)*float(x),'HEIGHT_WO_SHOES')))*703\n"
   ]
  },
  {
   "cell_type": "code",
   "execution_count": 23,
   "metadata": {
    "collapsed": false
   },
   "outputs": [
    {
     "name": "stderr",
     "output_type": "stream",
     "text": [
      "/Users/Shashank/anaconda3/lib/python3.4/site-packages/datascience/tables.py:235: FutureWarning: column_labels is deprecated; use labels\n",
      "  warnings.warn(\"column_labels is deprecated; use labels\", FutureWarning)\n"
     ]
    },
    {
     "data": {
      "text/plain": [
       "('Year',\n",
       " 'TEMP_PLAYER_ID',\n",
       " 'PLAYER_ID',\n",
       " 'FIRST_NAME',\n",
       " 'LAST_NAME',\n",
       " 'PLAYER_NAME',\n",
       " 'POSITION',\n",
       " 'HEIGHT_WO_SHOES',\n",
       " 'HEIGHT_WO_SHOES_FT_IN',\n",
       " 'HEIGHT_W_SHOES',\n",
       " 'HEIGHT_W_SHOES_FT_IN',\n",
       " 'WEIGHT',\n",
       " 'WINGSPAN',\n",
       " 'WINGSPAN_FT_IN',\n",
       " 'STANDING_REACH',\n",
       " 'STANDING_REACH_FT_IN',\n",
       " 'BODY_FAT_PCT',\n",
       " 'HAND_LENGTH',\n",
       " 'HAND_WIDTH',\n",
       " 'BMI')"
      ]
     },
     "execution_count": 23,
     "metadata": {},
     "output_type": "execute_result"
    }
   ],
   "source": [
    "bigs_a = anthro_data.where(\"POSITION\", \"C\")\n",
    "bigs_a.append(anthro_data.where(\"POSITION\", \"PF-C\"))\n",
    "bigs_a.append(anthro_data.where(\"POSITION\", \"PF\"))\n",
    "bigs_a.column_labels"
   ]
  },
  {
   "cell_type": "code",
   "execution_count": 24,
   "metadata": {
    "collapsed": false
   },
   "outputs": [],
   "source": [
    "joined_bigs_table = bigs_a.join('PLAYER_NAME', draft_data, 'Player')"
   ]
  },
  {
   "cell_type": "code",
   "execution_count": 25,
   "metadata": {
    "collapsed": false
   },
   "outputs": [
    {
     "data": {
      "text/html": [
       "<table border=\"1\" class=\"dataframe\">\n",
       "    <thead>\n",
       "        <tr>\n",
       "            <th>PLAYER_NAME</th> <th>Year</th> <th>TEMP_PLAYER_ID</th> <th>PLAYER_ID</th> <th>FIRST_NAME</th> <th>LAST_NAME</th> <th>POSITION</th> <th>HEIGHT_WO_SHOES</th> <th>HEIGHT_WO_SHOES_FT_IN</th> <th>HEIGHT_W_SHOES</th> <th>HEIGHT_W_SHOES_FT_IN</th> <th>WEIGHT</th> <th>WINGSPAN</th> <th>WINGSPAN_FT_IN</th> <th>STANDING_REACH</th> <th>STANDING_REACH_FT_IN</th> <th>BODY_FAT_PCT</th> <th>HAND_LENGTH</th> <th>HAND_WIDTH</th> <th>BMI</th> <th>Year_2</th> <th>Rk</th> <th>Pk</th> <th>Tm</th> <th>College</th> <th>Yrs</th> <th>G</th> <th>MP</th> <th>PTS</th> <th>TRB</th> <th>AST</th> <th>FG%</th> <th>3P%</th> <th>FT%</th> <th>WS</th> <th>WS/48</th> <th>BPM</th> <th>VORP</th>\n",
       "        </tr>\n",
       "    </thead>\n",
       "    <tbody>\n",
       "        <tr>\n",
       "            <td>Brandan Wright</td> <td>2007</td> <td>              </td> <td>201148   </td> <td>Brandan   </td> <td>Wright   </td> <td>PF      </td> <td>80.75          </td> <td>6' 8.75''            </td> <td>82.0          </td> <td>6' 10''             </td> <td>200   </td> <td>87.75   </td> <td>7' 3.75''     </td> <td>108.5         </td> <td>9' 0.5''            </td> <td>5.8         </td> <td>           </td> <td>          </td> <td>21.5626</td> <td>2007  </td> <td>8   </td> <td>8   </td> <td>CHA </td> <td>University of North Carolina   </td> <td>8   </td> <td>372 </td> <td>6121 </td> <td>2648 </td> <td>1387</td> <td>171 </td> <td>.608</td> <td>.000</td> <td>.677</td> <td>16.5</td> <td>7.1  </td> <td>3.7 </td> <td>0.5 </td>\n",
       "        </tr>\n",
       "    </tbody>\n",
       "        <tr>\n",
       "            <td>Chris Bosh    </td> <td>2003</td> <td>              </td> <td>2547     </td> <td>Chris     </td> <td>Bosh     </td> <td>PF      </td> <td>82.25          </td> <td>6' 10.25''           </td> <td>              </td> <td>                    </td> <td>225   </td> <td>87.5    </td> <td>7' 3.5''      </td> <td>109.0         </td> <td>9' 1''              </td> <td>8.0         </td> <td>           </td> <td>          </td> <td>23.3812</td> <td>2003  </td> <td>4   </td> <td>4   </td> <td>TOR </td> <td>Georgia Institute of Technology</td> <td>13  </td> <td>893 </td> <td>31936</td> <td>17189</td> <td>7592</td> <td>1795</td> <td>.494</td> <td>.335</td> <td>.799</td> <td>35.8</td> <td>19.2 </td> <td>8.5 </td> <td>2.0 </td>\n",
       "        </tr>\n",
       "    </tbody>\n",
       "        <tr>\n",
       "            <td>Chris Wilcox  </td> <td>2002</td> <td>              </td> <td>2404     </td> <td>Chris     </td> <td>Wilcox   </td> <td>PF-C    </td> <td>80.25          </td> <td>6' 8.25''            </td> <td>              </td> <td>                    </td> <td>218   </td> <td>85.0    </td> <td>7' 1''        </td> <td>107.5         </td> <td>8' 11.5''           </td> <td>            </td> <td>           </td> <td>          </td> <td>23.797 </td> <td>2002  </td> <td>8   </td> <td>8   </td> <td>LAC </td> <td>University of Maryland         </td> <td>11  </td> <td>628 </td> <td>12474</td> <td>5150 </td> <td>3076</td> <td>455 </td> <td>.541</td> <td>.000</td> <td>.643</td> <td>19.9</td> <td>8.2  </td> <td>4.9 </td> <td>0.7 </td>\n",
       "        </tr>\n",
       "    </tbody>\n",
       "        <tr>\n",
       "            <td>Ernest Brown  </td> <td>2000</td> <td>              </td> <td>2081     </td> <td>Ernest    </td> <td>Brown    </td> <td>C       </td> <td>82.0           </td> <td>6' 10''              </td> <td>              </td> <td>                    </td> <td>222.5 </td> <td>85.25   </td> <td>7' 1.25''     </td> <td>109.5         </td> <td>9' 1.5''            </td> <td>            </td> <td>           </td> <td>          </td> <td>23.2626</td> <td>2000  </td> <td>52  </td> <td>52  </td> <td>MIA </td> <td>Indian Hills Community College </td> <td>1   </td> <td>3   </td> <td>21   </td> <td>3    </td> <td>6   </td> <td>0   </td> <td>.167</td> <td>    </td> <td>.250</td> <td>7.0 </td> <td>1.0  </td> <td>2.0 </td> <td>0.0 </td>\n",
       "        </tr>\n",
       "    </tbody>\n",
       "        <tr>\n",
       "            <td>JaJuan Johnson</td> <td>2011</td> <td>              </td> <td>202707   </td> <td>JaJuan    </td> <td>Johnson  </td> <td>PF      </td> <td>81.0           </td> <td>6' 9''               </td> <td>82.0          </td> <td>6' 10''             </td> <td>219.8 </td> <td>86.0    </td> <td>7' 2''        </td> <td>107.5         </td> <td>8' 11.5''           </td> <td>7.5         </td> <td>9.0        </td> <td>10.0      </td> <td>23.5512</td> <td>2011  </td> <td>27  </td> <td>27  </td> <td>NJN </td> <td>Purdue University              </td> <td>1   </td> <td>36  </td> <td>298  </td> <td>114  </td> <td>58  </td> <td>6   </td> <td>.446</td> <td>    </td> <td>.667</td> <td>8.3 </td> <td>3.2  </td> <td>1.6 </td> <td>0.2 </td>\n",
       "        </tr>\n",
       "    </tbody>\n",
       "        <tr>\n",
       "            <td>Jarvis Varnado</td> <td>2010</td> <td>              </td> <td>12346    </td> <td>Jarvis    </td> <td>Varnado  </td> <td>PF-C    </td> <td>80.25          </td> <td>6' 8.25''            </td> <td>82.0          </td> <td>6' 10''             </td> <td>210.2 </td> <td>87.5    </td> <td>7' 3.5''      </td> <td>109.5         </td> <td>9' 1.5''            </td> <td>9.5         </td> <td>9.25       </td> <td>9.5       </td> <td>22.9455</td> <td>2010  </td> <td>41  </td> <td>41  </td> <td>MIA </td> <td>Mississippi State University   </td> <td>2   </td> <td>37  </td> <td>397  </td> <td>107  </td> <td>72  </td> <td>16  </td> <td>.582</td> <td>    </td> <td>.518</td> <td>10.7</td> <td>2.9  </td> <td>1.9 </td> <td>0.4 </td>\n",
       "        </tr>\n",
       "    </tbody>\n",
       "        <tr>\n",
       "            <td>Jason Smith   </td> <td>2007</td> <td>              </td> <td>201160   </td> <td>Jason     </td> <td>Smith    </td> <td>PF      </td> <td>82.75          </td> <td>6' 10.75''           </td> <td>83.5          </td> <td>6' 11.5''           </td> <td>233   </td> <td>82.75   </td> <td>6' 10.75''    </td> <td>106.0         </td> <td>8' 10''             </td> <td>7.5         </td> <td>           </td> <td>          </td> <td>23.9208</td> <td>2007  </td> <td>20  </td> <td>20  </td> <td>MIA </td> <td>Colorado State University      </td> <td>8   </td> <td>489 </td> <td>8486 </td> <td>3179 </td> <td>1712</td> <td>388 </td> <td>.466</td> <td>.293</td> <td>.785</td> <td>17.4</td> <td>6.5  </td> <td>3.5 </td> <td>0.8 </td>\n",
       "        </tr>\n",
       "    </tbody>\n",
       "        <tr>\n",
       "            <td>Joakim Noah   </td> <td>2007</td> <td>              </td> <td>201149   </td> <td>Joakim    </td> <td>Noah     </td> <td>PF      </td> <td>82.0           </td> <td>6' 10''              </td> <td>84.0          </td> <td>7' 0''              </td> <td>223   </td> <td>85.25   </td> <td>7' 1.25''     </td> <td>106.5         </td> <td>8' 10.5''           </td> <td>4.8         </td> <td>           </td> <td>          </td> <td>23.3148</td> <td>2007  </td> <td>9   </td> <td>9   </td> <td>CHI </td> <td>University of Florida          </td> <td>9   </td> <td>572 </td> <td>16848</td> <td>5325 </td> <td>5387</td> <td>1704</td> <td>.490</td> <td>.000</td> <td>.711</td> <td>29.5</td> <td>9.3  </td> <td>9.4 </td> <td>3.0 </td>\n",
       "        </tr>\n",
       "    </tbody>\n",
       "        <tr>\n",
       "            <td>Jon Leuer     </td> <td>2011</td> <td>              </td> <td>202720   </td> <td>Jon       </td> <td>Leuer    </td> <td>PF      </td> <td>82.0           </td> <td>6' 10''              </td> <td>83.5          </td> <td>6' 11.5''           </td> <td>223.2 </td> <td>84.0    </td> <td>7' 0''        </td> <td>105.5         </td> <td>8' 9.5''            </td> <td>5.4         </td> <td>8.75       </td> <td>9.75      </td> <td>23.3358</td> <td>2011  </td> <td>40  </td> <td>40  </td> <td>MIL </td> <td>University of Wisconsin        </td> <td>5   </td> <td>253 </td> <td>3463 </td> <td>1429 </td> <td>895 </td> <td>171 </td> <td>.479</td> <td>.375</td> <td>.718</td> <td>13.7</td> <td>5.6  </td> <td>3.5 </td> <td>0.7 </td>\n",
       "        </tr>\n",
       "    </tbody>\n",
       "        <tr>\n",
       "            <td>Ken Johnson   </td> <td>2001</td> <td>              </td> <td>2256     </td> <td>Ken       </td> <td>Johnson  </td> <td>C       </td> <td>82.75          </td> <td>6' 10.75''           </td> <td>              </td> <td>                    </td> <td>227   </td> <td>88.0    </td> <td>7' 4''        </td> <td>109.5         </td> <td>9' 1.5''            </td> <td>9.9         </td> <td>           </td> <td>          </td> <td>23.3048</td> <td>2001  </td> <td>48  </td> <td>48  </td> <td>MIA </td> <td>Ohio State University          </td> <td>1   </td> <td>16  </td> <td>156  </td> <td>32   </td> <td>32  </td> <td>0   </td> <td>.405</td> <td>    </td> <td>.333</td> <td>9.8 </td> <td>2.0  </td> <td>2.0 </td> <td>0.0 </td>\n",
       "        </tr>\n",
       "    </tbody>\n",
       "</table>\n",
       "<p>... (8 rows omitted)</p"
      ],
      "text/plain": [
       "PLAYER_NAME    | Year | TEMP_PLAYER_ID | PLAYER_ID | FIRST_NAME | LAST_NAME | POSITION | HEIGHT_WO_SHOES | HEIGHT_WO_SHOES_FT_IN | HEIGHT_W_SHOES | HEIGHT_W_SHOES_FT_IN | WEIGHT | WINGSPAN | WINGSPAN_FT_IN | STANDING_REACH | STANDING_REACH_FT_IN | BODY_FAT_PCT | HAND_LENGTH | HAND_WIDTH | BMI     | Year_2 | Rk   | Pk   | Tm   | College                         | Yrs  | G    | MP    | PTS   | TRB  | AST  | FG%  | 3P%  | FT%  | WS   | WS/48 | BPM  | VORP\n",
       "Brandan Wright | 2007 |                | 201148    | Brandan    | Wright    | PF       | 80.75           | 6' 8.75''             | 82.0           | 6' 10''              | 200    | 87.75    | 7' 3.75''      | 108.5          | 9' 0.5''             | 5.8          |             |            | 21.5626 | 2007   | 8    | 8    | CHA  | University of North Carolina    | 8    | 372  | 6121  | 2648  | 1387 | 171  | .608 | .000 | .677 | 16.5 | 7.1   | 3.7  | 0.5\n",
       "Chris Bosh     | 2003 |                | 2547      | Chris      | Bosh      | PF       | 82.25           | 6' 10.25''            |                |                      | 225    | 87.5     | 7' 3.5''       | 109.0          | 9' 1''               | 8.0          |             |            | 23.3812 | 2003   | 4    | 4    | TOR  | Georgia Institute of Technology | 13   | 893  | 31936 | 17189 | 7592 | 1795 | .494 | .335 | .799 | 35.8 | 19.2  | 8.5  | 2.0\n",
       "Chris Wilcox   | 2002 |                | 2404      | Chris      | Wilcox    | PF-C     | 80.25           | 6' 8.25''             |                |                      | 218    | 85.0     | 7' 1''         | 107.5          | 8' 11.5''            |              |             |            | 23.797  | 2002   | 8    | 8    | LAC  | University of Maryland          | 11   | 628  | 12474 | 5150  | 3076 | 455  | .541 | .000 | .643 | 19.9 | 8.2   | 4.9  | 0.7\n",
       "Ernest Brown   | 2000 |                | 2081      | Ernest     | Brown     | C        | 82.0            | 6' 10''               |                |                      | 222.5  | 85.25    | 7' 1.25''      | 109.5          | 9' 1.5''             |              |             |            | 23.2626 | 2000   | 52   | 52   | MIA  | Indian Hills Community College  | 1    | 3    | 21    | 3     | 6    | 0    | .167 |      | .250 | 7.0  | 1.0   | 2.0  | 0.0\n",
       "JaJuan Johnson | 2011 |                | 202707    | JaJuan     | Johnson   | PF       | 81.0            | 6' 9''                | 82.0           | 6' 10''              | 219.8  | 86.0     | 7' 2''         | 107.5          | 8' 11.5''            | 7.5          | 9.0         | 10.0       | 23.5512 | 2011   | 27   | 27   | NJN  | Purdue University               | 1    | 36   | 298   | 114   | 58   | 6    | .446 |      | .667 | 8.3  | 3.2   | 1.6  | 0.2\n",
       "Jarvis Varnado | 2010 |                | 12346     | Jarvis     | Varnado   | PF-C     | 80.25           | 6' 8.25''             | 82.0           | 6' 10''              | 210.2  | 87.5     | 7' 3.5''       | 109.5          | 9' 1.5''             | 9.5          | 9.25        | 9.5        | 22.9455 | 2010   | 41   | 41   | MIA  | Mississippi State University    | 2    | 37   | 397   | 107   | 72   | 16   | .582 |      | .518 | 10.7 | 2.9   | 1.9  | 0.4\n",
       "Jason Smith    | 2007 |                | 201160    | Jason      | Smith     | PF       | 82.75           | 6' 10.75''            | 83.5           | 6' 11.5''            | 233    | 82.75    | 6' 10.75''     | 106.0          | 8' 10''              | 7.5          |             |            | 23.9208 | 2007   | 20   | 20   | MIA  | Colorado State University       | 8    | 489  | 8486  | 3179  | 1712 | 388  | .466 | .293 | .785 | 17.4 | 6.5   | 3.5  | 0.8\n",
       "Joakim Noah    | 2007 |                | 201149    | Joakim     | Noah      | PF       | 82.0            | 6' 10''               | 84.0           | 7' 0''               | 223    | 85.25    | 7' 1.25''      | 106.5          | 8' 10.5''            | 4.8          |             |            | 23.3148 | 2007   | 9    | 9    | CHI  | University of Florida           | 9    | 572  | 16848 | 5325  | 5387 | 1704 | .490 | .000 | .711 | 29.5 | 9.3   | 9.4  | 3.0\n",
       "Jon Leuer      | 2011 |                | 202720    | Jon        | Leuer     | PF       | 82.0            | 6' 10''               | 83.5           | 6' 11.5''            | 223.2  | 84.0     | 7' 0''         | 105.5          | 8' 9.5''             | 5.4          | 8.75        | 9.75       | 23.3358 | 2011   | 40   | 40   | MIL  | University of Wisconsin         | 5    | 253  | 3463  | 1429  | 895  | 171  | .479 | .375 | .718 | 13.7 | 5.6   | 3.5  | 0.7\n",
       "Ken Johnson    | 2001 |                | 2256      | Ken        | Johnson   | C        | 82.75           | 6' 10.75''            |                |                      | 227    | 88.0     | 7' 4''         | 109.5          | 9' 1.5''             | 9.9          |             |            | 23.3048 | 2001   | 48   | 48   | MIA  | Ohio State University           | 1    | 16   | 156   | 32    | 32   | 0    | .405 |      | .333 | 9.8  | 2.0   | 2.0  | 0.0\n",
       "... (8 rows omitted)"
      ]
     },
     "execution_count": 25,
     "metadata": {},
     "output_type": "execute_result"
    }
   ],
   "source": [
    "joined_bigs_table.where(joined_bigs_table[\"BMI\"] < (np.mean(joined_bigs_table['BMI']) - np.std(joined_bigs_table['BMI'])))"
   ]
  },
  {
   "cell_type": "code",
   "execution_count": 32,
   "metadata": {
    "collapsed": false
   },
   "outputs": [],
   "source": [
    "#joined_bigs_table.bin(\"BMI\")\n",
    "#joined_bigs_table.bin(\"BMI\")\n",
    "ws = joined_bigs_table.column('WS/48')\n",
    "ws[ws == ''] = 0\n",
    "joined_bigs_table['WS/48'] = ws.astype(np.float)"
   ]
  },
  {
   "cell_type": "code",
   "execution_count": 46,
   "metadata": {
    "collapsed": false
   },
   "outputs": [
    {
     "data": {
      "image/png": "[encoded data removed]",
      "text/plain": [
       "<matplotlib.figure.Figure at 0x109d47198>"
      ]
     },
     "metadata": {},
     "output_type": "display_data"
    }
   ],
   "source": [
    "joined_bigs_table.hist(select=\"BMI\", bins=np.arange(np.min(joined_bigs_table[\"BMI\"]), np.max(joined_bigs_table[\"BMI\"]), np.std(joined_bigs_table['BMI'])))"
   ]
  },
  {
   "cell_type": "code",
   "execution_count": null,
   "metadata": {
    "collapsed": true
   },
   "outputs": [],
   "source": []
  },
  {
   "cell_type": "code",
   "execution_count": null,
   "metadata": {
    "collapsed": true
   },
   "outputs": [],
   "source": []
  }
 ],
 "metadata": {
  "kernelspec": {
   "display_name": "Python 3",
   "language": "python",
   "name": "python3"
  },
  "language_info": {
   "codemirror_mode": {
    "name": "ipython",
    "version": 3
   },
   "file_extension": ".py",
   "mimetype": "text/x-python",
   "name": "python",
   "nbconvert_exporter": "python",
   "pygments_lexer": "ipython3",
   "version": "3.4.4"
  }
 },
 "nbformat": 4,
 "nbformat_minor": 0
}
