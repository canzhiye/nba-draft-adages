{
 "cells": [
  {
   "cell_type": "code",
   "execution_count": 85,
   "metadata": {
    "collapsed": true
   },
   "outputs": [],
   "source": [
    "from datascience import Table, NumberFormatter\n",
    "import datascience\n",
    "import matplotlib.pyplot as plt\n"
   ]
  },
  {
   "cell_type": "code",
   "execution_count": 94,
   "metadata": {
    "collapsed": false
   },
   "outputs": [],
   "source": [
    "draft_data = [Table.read_table('data/drafts/draft_NBA_' + str(i) + '_stats.csv') if i > 1999 else None for i in range(0, 2016)]\n",
    "anthro_data = [Table.read_table('data/drafts/draft_NBA_' + str(i) + '_stats.csv') if i > 1999 else None for i in range(0, 2016)]"
   ]
  },
  {
   "cell_type": "code",
   "execution_count": 98,
   "metadata": {
    "collapsed": false
   },
   "outputs": [
    {
     "name": "stderr",
     "output_type": "stream",
     "text": [
      "/usr/local/lib/python3.5/site-packages/ipykernel/__main__.py:2: FutureWarning: elementwise comparison failed; returning scalar instead, but in the future will perform elementwise comparison\n",
      "  from ipykernel import kernelapp as app\n",
      "/usr/local/lib/python3.5/site-packages/ipykernel/__main__.py:2: VisibleDeprecationWarning: using a boolean instead of an integer will result in an error in the future\n",
      "  from ipykernel import kernelapp as app\n",
      "/usr/local/lib/python3.5/site-packages/ipykernel/__main__.py:3: FutureWarning: elementwise comparison failed; returning scalar instead, but in the future will perform elementwise comparison\n",
      "  app.launch_new_instance()\n"
     ]
    },
    {
     "data": {
      "text/html": [
       "<table border=\"1\" class=\"dataframe\">\n",
       "    <thead>\n",
       "        <tr>\n",
       "            <th>Pk</th> <th>VORP</th>\n",
       "        </tr>\n",
       "    </thead>\n",
       "    <tbody>\n",
       "        <tr>\n",
       "            <td>1   </td> <td>0   </td>\n",
       "        </tr>\n",
       "    </tbody>\n",
       "        <tr>\n",
       "            <td>2   </td> <td>26.2</td>\n",
       "        </tr>\n",
       "    </tbody>\n",
       "        <tr>\n",
       "            <td>3   </td> <td>51.8</td>\n",
       "        </tr>\n",
       "    </tbody>\n",
       "        <tr>\n",
       "            <td>4   </td> <td>-5  </td>\n",
       "        </tr>\n",
       "    </tbody>\n",
       "        <tr>\n",
       "            <td>5   </td> <td>24.4</td>\n",
       "        </tr>\n",
       "    </tbody>\n",
       "        <tr>\n",
       "            <td>6   </td> <td>37  </td>\n",
       "        </tr>\n",
       "    </tbody>\n",
       "        <tr>\n",
       "            <td>7   </td> <td>1.7 </td>\n",
       "        </tr>\n",
       "    </tbody>\n",
       "        <tr>\n",
       "            <td>8   </td> <td>4.3 </td>\n",
       "        </tr>\n",
       "    </tbody>\n",
       "        <tr>\n",
       "            <td>9   </td> <td>-1.5</td>\n",
       "        </tr>\n",
       "    </tbody>\n",
       "        <tr>\n",
       "            <td>10  </td> <td>26.2</td>\n",
       "        </tr>\n",
       "    </tbody>\n",
       "</table>\n",
       "<p>... (47 rows omitted)</p"
      ],
      "text/plain": [
       "Pk   | VORP\n",
       "1    | 0\n",
       "2    | 26.2\n",
       "3    | 51.8\n",
       "4    | -5\n",
       "5    | 24.4\n",
       "6    | 37\n",
       "7    | 1.7\n",
       "8    | 4.3\n",
       "9    | -1.5\n",
       "10   | 26.2\n",
       "... (47 rows omitted)"
      ]
     },
     "execution_count": 98,
     "metadata": {},
     "output_type": "execute_result"
    }
   ],
   "source": [
    "a = draft_data[2001]\n",
    "vorp = a.column('VORP')[a.column('VORP') == 'nan'] = 0\n",
    "a.where(a.column('Rk') == '1').select(['Pk', 'VORP'])\n",
    "# a.show()\n",
    "# \n",
    "# a\n"
   ]
  },
  {
   "cell_type": "code",
   "execution_count": 48,
   "metadata": {
    "collapsed": false
   },
   "outputs": [],
   "source": [
    "t = Table.read_table('test.csv')"
   ]
  },
  {
   "cell_type": "code",
   "execution_count": 49,
   "metadata": {
    "collapsed": false
   },
   "outputs": [
    {
     "data": {
      "text/html": [
       "<table border=\"1\" class=\"dataframe\">\n",
       "    <thead>\n",
       "        <tr>\n",
       "            <th>TEMP_PLAYER_ID</th> <th>PLAYER_ID</th> <th>FIRST_NAME</th> <th>LAST_NAME</th> <th>PLAYER_NAME</th> <th>POSITION</th> <th>HEIGHT_WO_SHOES</th> <th>HEIGHT_WO_SHOES_FT_IN</th> <th>HEIGHT_W_SHOES</th> <th>HEIGHT_W_SHOES_FT_IN</th> <th>WEIGHT</th> <th>WINGSPAN</th> <th>WINGSPAN_FT_IN</th> <th>STANDING_REACH</th> <th>STANDING_REACH_FT_IN</th> <th>BODY_FAT_PCT</th> <th>HAND_LENGTH</th> <th>HAND_WIDTH</th>\n",
       "        </tr>\n",
       "    </thead>\n",
       "    <tbody>\n",
       "        <tr>\n",
       "            <td>15000         </td> <td>nan      </td> <td>Cliff     </td> <td>Alexander   </td> <td>Cliff Alexander    </td> <td>PF-C    </td> <td>79.25          </td> <td>6' 7.25''            </td> <td>80.5          </td> <td>6' 8.5''            </td> <td>239.2 </td> <td>87.5    </td> <td>7' 3.5''      </td> <td>109.5         </td> <td>9' 1.5''            </td> <td>5.8         </td> <td>9.5        </td> <td>10.25     </td>\n",
       "        </tr>\n",
       "    </tbody>\n",
       "        <tr>\n",
       "            <td>15001         </td> <td>nan      </td> <td>Justin    </td> <td>Anderson    </td> <td>Justin Anderson    </td> <td>SF-SG   </td> <td>77.25          </td> <td>6' 5.25''            </td> <td>78.25         </td> <td>6' 6.25''           </td> <td>230.6 </td> <td>83.75   </td> <td>6' 11.75''    </td> <td>101           </td> <td>8' 5''              </td> <td>5           </td> <td>8.5        </td> <td>9.5       </td>\n",
       "        </tr>\n",
       "    </tbody>\n",
       "        <tr>\n",
       "            <td>15002         </td> <td>nan      </td> <td>Brandon   </td> <td>Ashley      </td> <td>Brandon Ashley     </td> <td>PF      </td> <td>79.25          </td> <td>6' 7.25''            </td> <td>80.5          </td> <td>6' 8.5''            </td> <td>228   </td> <td>87.75   </td> <td>7' 3.75''     </td> <td>105           </td> <td>8' 9''              </td> <td>8.8         </td> <td>9          </td> <td>9.5       </td>\n",
       "        </tr>\n",
       "    </tbody>\n",
       "        <tr>\n",
       "            <td>15003         </td> <td>nan      </td> <td>Ryan      </td> <td>Boatright   </td> <td>Ryan Boatright     </td> <td>PG      </td> <td>70             </td> <td>5' 10''              </td> <td>71            </td> <td>5' 11''             </td> <td>169.6 </td> <td>72.5    </td> <td>6' 0.5''      </td> <td>92.5          </td> <td>7' 8.5''            </td> <td>6.6         </td> <td>7.5        </td> <td>8.75      </td>\n",
       "        </tr>\n",
       "    </tbody>\n",
       "        <tr>\n",
       "            <td>15004         </td> <td>nan      </td> <td>Devin     </td> <td>Booker      </td> <td>Devin Booker       </td> <td>SG      </td> <td>76.5           </td> <td>6' 4.5''             </td> <td>77.75         </td> <td>6' 5.75''           </td> <td>205.8 </td> <td>80.25   </td> <td>6' 8.25''     </td> <td>102.5         </td> <td>8' 6.5''            </td> <td>8.3         </td> <td>8.75       </td> <td>9         </td>\n",
       "        </tr>\n",
       "    </tbody>\n",
       "        <tr>\n",
       "            <td>15005         </td> <td>nan      </td> <td>Anthony   </td> <td>Brown       </td> <td>Anthony Brown      </td> <td>SF-SG   </td> <td>77.75          </td> <td>6' 5.75''            </td> <td>79.25         </td> <td>6' 7.25''           </td> <td>211   </td> <td>83      </td> <td>6' 11''       </td> <td>104.5         </td> <td>8' 8.5''            </td> <td>6.1         </td> <td>8.5        </td> <td>9         </td>\n",
       "        </tr>\n",
       "    </tbody>\n",
       "        <tr>\n",
       "            <td>15006         </td> <td>nan      </td> <td>Willie    </td> <td>Cauley-Stein</td> <td>Willie Cauley-Stein</td> <td>C       </td> <td>83.25          </td> <td>6' 11.25''           </td> <td>84.5          </td> <td>7' 0.5''            </td> <td>242.4 </td> <td>87      </td> <td>7' 3''        </td> <td>111           </td> <td>9' 3''              </td> <td>6.3         </td> <td>9.5        </td> <td>9         </td>\n",
       "        </tr>\n",
       "    </tbody>\n",
       "        <tr>\n",
       "            <td>15007         </td> <td>nan      </td> <td>Rakeem    </td> <td>Christmas   </td> <td>Rakeem Christmas   </td> <td>PF-C    </td> <td>80.25          </td> <td>6' 8.25''            </td> <td>81.75         </td> <td>6' 9.75''           </td> <td>242.6 </td> <td>89.25   </td> <td>7' 5.25''     </td> <td>110.5         </td> <td>9' 2.5''            </td> <td>9.6         </td> <td>9.25       </td> <td>9         </td>\n",
       "        </tr>\n",
       "    </tbody>\n",
       "        <tr>\n",
       "            <td>15008         </td> <td>nan      </td> <td>Pat       </td> <td>Connaughton </td> <td>Pat Connaughton    </td> <td>SG      </td> <td>76             </td> <td>6' 4''               </td> <td>77.25         </td> <td>6' 5.25''           </td> <td>215   </td> <td>80      </td> <td>6' 8''        </td> <td>96            </td> <td>8' 0''              </td> <td>10.2        </td> <td>8.5        </td> <td>9.25      </td>\n",
       "        </tr>\n",
       "    </tbody>\n",
       "        <tr>\n",
       "            <td>15009         </td> <td>nan      </td> <td>Quinn     </td> <td>Cook        </td> <td>Quinn Cook         </td> <td>PG      </td> <td>72.25          </td> <td>6' 0.25''            </td> <td>74            </td> <td>6' 2''              </td> <td>179   </td> <td>76      </td> <td>6' 4''        </td> <td>96.5          </td> <td>8' 0.5''            </td> <td>6.7         </td> <td>7.5        </td> <td>8.75      </td>\n",
       "        </tr>\n",
       "    </tbody>\n",
       "</table>\n",
       "<p>... (53 rows omitted)</p"
      ],
      "text/plain": [
       "TEMP_PLAYER_ID | PLAYER_ID | FIRST_NAME | LAST_NAME    | PLAYER_NAME         | POSITION | HEIGHT_WO_SHOES | HEIGHT_WO_SHOES_FT_IN | HEIGHT_W_SHOES | HEIGHT_W_SHOES_FT_IN | WEIGHT | WINGSPAN | WINGSPAN_FT_IN | STANDING_REACH | STANDING_REACH_FT_IN | BODY_FAT_PCT | HAND_LENGTH | HAND_WIDTH\n",
       "15000          | nan       | Cliff      | Alexander    | Cliff Alexander     | PF-C     | 79.25           | 6' 7.25''             | 80.5           | 6' 8.5''             | 239.2  | 87.5     | 7' 3.5''       | 109.5          | 9' 1.5''             | 5.8          | 9.5         | 10.25\n",
       "15001          | nan       | Justin     | Anderson     | Justin Anderson     | SF-SG    | 77.25           | 6' 5.25''             | 78.25          | 6' 6.25''            | 230.6  | 83.75    | 6' 11.75''     | 101            | 8' 5''               | 5            | 8.5         | 9.5\n",
       "15002          | nan       | Brandon    | Ashley       | Brandon Ashley      | PF       | 79.25           | 6' 7.25''             | 80.5           | 6' 8.5''             | 228    | 87.75    | 7' 3.75''      | 105            | 8' 9''               | 8.8          | 9           | 9.5\n",
       "15003          | nan       | Ryan       | Boatright    | Ryan Boatright      | PG       | 70              | 5' 10''               | 71             | 5' 11''              | 169.6  | 72.5     | 6' 0.5''       | 92.5           | 7' 8.5''             | 6.6          | 7.5         | 8.75\n",
       "15004          | nan       | Devin      | Booker       | Devin Booker        | SG       | 76.5            | 6' 4.5''              | 77.75          | 6' 5.75''            | 205.8  | 80.25    | 6' 8.25''      | 102.5          | 8' 6.5''             | 8.3          | 8.75        | 9\n",
       "15005          | nan       | Anthony    | Brown        | Anthony Brown       | SF-SG    | 77.75           | 6' 5.75''             | 79.25          | 6' 7.25''            | 211    | 83       | 6' 11''        | 104.5          | 8' 8.5''             | 6.1          | 8.5         | 9\n",
       "15006          | nan       | Willie     | Cauley-Stein | Willie Cauley-Stein | C        | 83.25           | 6' 11.25''            | 84.5           | 7' 0.5''             | 242.4  | 87       | 7' 3''         | 111            | 9' 3''               | 6.3          | 9.5         | 9\n",
       "15007          | nan       | Rakeem     | Christmas    | Rakeem Christmas    | PF-C     | 80.25           | 6' 8.25''             | 81.75          | 6' 9.75''            | 242.6  | 89.25    | 7' 5.25''      | 110.5          | 9' 2.5''             | 9.6          | 9.25        | 9\n",
       "15008          | nan       | Pat        | Connaughton  | Pat Connaughton     | SG       | 76              | 6' 4''                | 77.25          | 6' 5.25''            | 215    | 80       | 6' 8''         | 96             | 8' 0''               | 10.2         | 8.5         | 9.25\n",
       "15009          | nan       | Quinn      | Cook         | Quinn Cook          | PG       | 72.25           | 6' 0.25''             | 74             | 6' 2''               | 179    | 76       | 6' 4''         | 96.5           | 8' 0.5''             | 6.7          | 7.5         | 8.75\n",
       "... (53 rows omitted)"
      ]
     },
     "execution_count": 49,
     "metadata": {},
     "output_type": "execute_result"
    }
   ],
   "source": [
    "t"
   ]
  },
  {
   "cell_type": "code",
   "execution_count": 50,
   "metadata": {
    "collapsed": true
   },
   "outputs": [],
   "source": [
    "a = Table.read_table('data/combines/anthro_2002.csv')"
   ]
  },
  {
   "cell_type": "code",
   "execution_count": 51,
   "metadata": {
    "collapsed": false
   },
   "outputs": [
    {
     "data": {
      "text/html": [
       "<table border=\"1\" class=\"dataframe\">\n",
       "    <thead>\n",
       "        <tr>\n",
       "            <th>TEMP_PLAYER_ID</th> <th>PLAYER_ID</th> <th>FIRST_NAME</th> <th>LAST_NAME</th> <th>PLAYER_NAME</th> <th>POSITION</th> <th>HEIGHT_WO_SHOES</th> <th>HEIGHT_WO_SHOES_FT_IN</th> <th>HEIGHT_W_SHOES</th> <th>HEIGHT_W_SHOES_FT_IN</th> <th>WEIGHT</th> <th>WINGSPAN</th> <th>WINGSPAN_FT_IN</th> <th>STANDING_REACH</th> <th>STANDING_REACH_FT_IN</th> <th>BODY_FAT_PCT</th> <th>HAND_LENGTH</th> <th>HAND_WIDTH</th>\n",
       "        </tr>\n",
       "    </thead>\n",
       "    <tbody>\n",
       "        <tr>\n",
       "            <td>nan           </td> <td>2403     </td> <td>Nene      </td> <td>nan      </td> <td>Nene            </td> <td>PF      </td> <td>81.25          </td> <td>6' 9.25''            </td> <td>nan           </td> <td>nan                 </td> <td>253   </td> <td>88.5    </td> <td>7' 4.5''      </td> <td>109           </td> <td>9' 1''              </td> <td>nan         </td> <td>nan        </td> <td>nan       </td>\n",
       "        </tr>\n",
       "    </tbody>\n",
       "        <tr>\n",
       "            <td>nan           </td> <td>2425     </td> <td>Robert    </td> <td>Archibald</td> <td>Robert Archibald</td> <td>PF-C    </td> <td>82             </td> <td>6' 10''              </td> <td>nan           </td> <td>nan                 </td> <td>250   </td> <td>83.75   </td> <td>6' 11.75''    </td> <td>109.5         </td> <td>9' 1.5''            </td> <td>nan         </td> <td>nan        </td> <td>nan       </td>\n",
       "        </tr>\n",
       "    </tbody>\n",
       "        <tr>\n",
       "            <td>nan           </td> <td>2486     </td> <td>Maurice   </td> <td>Baker    </td> <td>Maurice Baker   </td> <td>PG      </td> <td>71.75          </td> <td>5' 11.75''           </td> <td>nan           </td> <td>nan                 </td> <td>178   </td> <td>76      </td> <td>6' 4''        </td> <td>96            </td> <td>8' 0''              </td> <td>nan         </td> <td>nan        </td> <td>nan       </td>\n",
       "        </tr>\n",
       "    </tbody>\n",
       "        <tr>\n",
       "            <td>nan           </td> <td>2440     </td> <td>Matt      </td> <td>Barnes   </td> <td>Matt Barnes     </td> <td>SF      </td> <td>78.75          </td> <td>6' 6.75''            </td> <td>nan           </td> <td>nan                 </td> <td>226   </td> <td>81      </td> <td>6' 9''        </td> <td>96.5          </td> <td>8' 0.5''            </td> <td>nan         </td> <td>nan        </td> <td>nan       </td>\n",
       "        </tr>\n",
       "    </tbody>\n",
       "        <tr>\n",
       "            <td>nan           </td> <td>12286    </td> <td>Lubos     </td> <td>Barton   </td> <td>Lubos Barton    </td> <td>SF-SG   </td> <td>78.5           </td> <td>6' 6.5''             </td> <td>nan           </td> <td>nan                 </td> <td>221   </td> <td>84      </td> <td>7' 0''        </td> <td>107           </td> <td>8' 11''             </td> <td>nan         </td> <td>nan        </td> <td>nan       </td>\n",
       "        </tr>\n",
       "    </tbody>\n",
       "        <tr>\n",
       "            <td>nan           </td> <td>2437     </td> <td>Lonny     </td> <td>Baxter   </td> <td>Lonny Baxter    </td> <td>PF-C    </td> <td>78.25          </td> <td>6' 6.25''            </td> <td>nan           </td> <td>nan                 </td> <td>264   </td> <td>85.5    </td> <td>7' 1.5''      </td> <td>107.5         </td> <td>8' 11.5''           </td> <td>nan         </td> <td>nan        </td> <td>nan       </td>\n",
       "        </tr>\n",
       "    </tbody>\n",
       "        <tr>\n",
       "            <td>nan           </td> <td>12287    </td> <td>Lee       </td> <td>Benson   </td> <td>Lee Benson      </td> <td>SF-PF   </td> <td>80.25          </td> <td>6' 8.25''            </td> <td>nan           </td> <td>nan                 </td> <td>217   </td> <td>85.75   </td> <td>7' 1.75''     </td> <td>109           </td> <td>9' 1''              </td> <td>nan         </td> <td>nan        </td> <td>nan       </td>\n",
       "        </tr>\n",
       "    </tbody>\n",
       "        <tr>\n",
       "            <td>nan           </td> <td>2430     </td> <td>Carlos    </td> <td>Boozer   </td> <td>Carlos Boozer   </td> <td>PF      </td> <td>79.75          </td> <td>6' 7.75''            </td> <td>nan           </td> <td>nan                 </td> <td>258   </td> <td>86.25   </td> <td>7' 2.25''     </td> <td>108.5         </td> <td>9' 0.5''            </td> <td>nan         </td> <td>nan        </td> <td>nan       </td>\n",
       "        </tr>\n",
       "    </tbody>\n",
       "        <tr>\n",
       "            <td>nan           </td> <td>2414     </td> <td>Curtis    </td> <td>Borchardt</td> <td>Curtis Borchardt</td> <td>C       </td> <td>82.75          </td> <td>6' 10.75''           </td> <td>nan           </td> <td>nan                 </td> <td>238   </td> <td>86.5    </td> <td>7' 2.5''      </td> <td>112           </td> <td>9' 4''              </td> <td>nan         </td> <td>nan        </td> <td>nan       </td>\n",
       "        </tr>\n",
       "    </tbody>\n",
       "        <tr>\n",
       "            <td>nan           </td> <td>2452     </td> <td>J.R.      </td> <td>Bremer   </td> <td>J.R. Bremer     </td> <td>SG-PG   </td> <td>73.25          </td> <td>6' 1.25''            </td> <td>nan           </td> <td>nan                 </td> <td>188   </td> <td>74.25   </td> <td>6' 2.25''     </td> <td>96            </td> <td>8' 0''              </td> <td>nan         </td> <td>nan        </td> <td>nan       </td>\n",
       "        </tr>\n",
       "    </tbody>\n",
       "</table>\n",
       "<p>... (72 rows omitted)</p"
      ],
      "text/plain": [
       "TEMP_PLAYER_ID | PLAYER_ID | FIRST_NAME | LAST_NAME | PLAYER_NAME      | POSITION | HEIGHT_WO_SHOES | HEIGHT_WO_SHOES_FT_IN | HEIGHT_W_SHOES | HEIGHT_W_SHOES_FT_IN | WEIGHT | WINGSPAN | WINGSPAN_FT_IN | STANDING_REACH | STANDING_REACH_FT_IN | BODY_FAT_PCT | HAND_LENGTH | HAND_WIDTH\n",
       "nan            | 2403      | Nene       | nan       | Nene             | PF       | 81.25           | 6' 9.25''             | nan            | nan                  | 253    | 88.5     | 7' 4.5''       | 109            | 9' 1''               | nan          | nan         | nan\n",
       "nan            | 2425      | Robert     | Archibald | Robert Archibald | PF-C     | 82              | 6' 10''               | nan            | nan                  | 250    | 83.75    | 6' 11.75''     | 109.5          | 9' 1.5''             | nan          | nan         | nan\n",
       "nan            | 2486      | Maurice    | Baker     | Maurice Baker    | PG       | 71.75           | 5' 11.75''            | nan            | nan                  | 178    | 76       | 6' 4''         | 96             | 8' 0''               | nan          | nan         | nan\n",
       "nan            | 2440      | Matt       | Barnes    | Matt Barnes      | SF       | 78.75           | 6' 6.75''             | nan            | nan                  | 226    | 81       | 6' 9''         | 96.5           | 8' 0.5''             | nan          | nan         | nan\n",
       "nan            | 12286     | Lubos      | Barton    | Lubos Barton     | SF-SG    | 78.5            | 6' 6.5''              | nan            | nan                  | 221    | 84       | 7' 0''         | 107            | 8' 11''              | nan          | nan         | nan\n",
       "nan            | 2437      | Lonny      | Baxter    | Lonny Baxter     | PF-C     | 78.25           | 6' 6.25''             | nan            | nan                  | 264    | 85.5     | 7' 1.5''       | 107.5          | 8' 11.5''            | nan          | nan         | nan\n",
       "nan            | 12287     | Lee        | Benson    | Lee Benson       | SF-PF    | 80.25           | 6' 8.25''             | nan            | nan                  | 217    | 85.75    | 7' 1.75''      | 109            | 9' 1''               | nan          | nan         | nan\n",
       "nan            | 2430      | Carlos     | Boozer    | Carlos Boozer    | PF       | 79.75           | 6' 7.75''             | nan            | nan                  | 258    | 86.25    | 7' 2.25''      | 108.5          | 9' 0.5''             | nan          | nan         | nan\n",
       "nan            | 2414      | Curtis     | Borchardt | Curtis Borchardt | C        | 82.75           | 6' 10.75''            | nan            | nan                  | 238    | 86.5     | 7' 2.5''       | 112            | 9' 4''               | nan          | nan         | nan\n",
       "nan            | 2452      | J.R.       | Bremer    | J.R. Bremer      | SG-PG    | 73.25           | 6' 1.25''             | nan            | nan                  | 188    | 74.25    | 6' 2.25''      | 96             | 8' 0''               | nan          | nan         | nan\n",
       "... (72 rows omitted)"
      ]
     },
     "execution_count": 51,
     "metadata": {},
     "output_type": "execute_result"
    }
   ],
   "source": [
    "a"
   ]
  },
  {
   "cell_type": "code",
   "execution_count": null,
   "metadata": {
    "collapsed": true
   },
   "outputs": [],
   "source": []
  }
 ],
 "metadata": {
  "kernelspec": {
   "display_name": "Python 3",
   "language": "python",
   "name": "python3"
  },
  "language_info": {
   "codemirror_mode": {
    "name": "ipython",
    "version": 3
   },
   "file_extension": ".py",
   "mimetype": "text/x-python",
   "name": "python",
   "nbconvert_exporter": "python",
   "pygments_lexer": "ipython3",
   "version": "3.5.1"
  }
 },
 "nbformat": 4,
 "nbformat_minor": 0
}
