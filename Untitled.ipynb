{
 "cells": [
  {
   "cell_type": "code",
   "execution_count": 3,
   "metadata": {
    "collapsed": true
   },
   "outputs": [],
   "source": [
    "from datascience import Table"
   ]
  },
  {
   "cell_type": "code",
   "execution_count": 23,
   "metadata": {
    "collapsed": false
   },
   "outputs": [],
   "source": [
    "draft_data = [Table.read_table('data/drafts/draft_NBA_' + str(i) + '_stats.csv') if i > 1990 else None for i in range(0, 2016)]"
   ]
  },
  {
   "cell_type": "code",
   "execution_count": 24,
   "metadata": {
    "collapsed": false
   },
   "outputs": [
    {
     "data": {
      "text/html": [
       "<table border=\"1\" class=\"dataframe\">\n",
       "    <thead>\n",
       "        <tr>\n",
       "            <th>Rk</th> <th>Pk</th> <th>Tm</th> <th>Player</th> <th>College</th> <th>Yrs</th> <th>G</th> <th>MP</th> <th>PTS</th> <th>TRB</th> <th>AST</th> <th>FG%</th> <th>3P%</th> <th>FT%</th> <th>MP.1</th> <th>PTS.1</th> <th>TRB.1</th> <th>AST.1</th> <th>WS</th> <th>WS/48</th> <th>BPM</th> <th>VORP</th>\n",
       "        </tr>\n",
       "    </thead>\n",
       "    <tbody>\n",
       "        <tr>\n",
       "            <td>1   </td> <td>1   </td> <td>CHH </td> <td>Larry Johnson  </td> <td>University of Nevada Las Vegas </td> <td>10  </td> <td>707 </td> <td>25685</td> <td>11450</td> <td>5300 </td> <td>2298</td> <td>.484</td> <td>.332</td> <td>.766</td> <td>36.3</td> <td>16.2 </td> <td>7.5  </td> <td>3.3  </td> <td>69.7 </td> <td>.130 </td> <td>2.4 </td> <td>28.3</td>\n",
       "        </tr>\n",
       "    </tbody>\n",
       "        <tr>\n",
       "            <td>2   </td> <td>2   </td> <td>NJN </td> <td>Kenny Anderson </td> <td>Georgia Institute of Technology</td> <td>14  </td> <td>858 </td> <td>25868</td> <td>10789</td> <td>2641 </td> <td>5196</td> <td>.421</td> <td>.346</td> <td>.790</td> <td>30.1</td> <td>12.6 </td> <td>3.1  </td> <td>6.1  </td> <td>62.5 </td> <td>.116 </td> <td>0.8 </td> <td>18.0</td>\n",
       "        </tr>\n",
       "    </tbody>\n",
       "        <tr>\n",
       "            <td>3   </td> <td>3   </td> <td>SAC </td> <td>Billy Owens    </td> <td>Syracuse University            </td> <td>10  </td> <td>600 </td> <td>17619</td> <td>7026 </td> <td>4016 </td> <td>1704</td> <td>.481</td> <td>.291</td> <td>.629</td> <td>29.4</td> <td>11.7 </td> <td>6.7  </td> <td>2.8  </td> <td>28.6 </td> <td>.078 </td> <td>0.5 </td> <td>11.2</td>\n",
       "        </tr>\n",
       "    </tbody>\n",
       "        <tr>\n",
       "            <td>4   </td> <td>4   </td> <td>DEN </td> <td>Dikembe Mutombo</td> <td>Georgetown University          </td> <td>18  </td> <td>1196</td> <td>36791</td> <td>11729</td> <td>12359</td> <td>1240</td> <td>.518</td> <td>.000</td> <td>.684</td> <td>30.8</td> <td>9.8  </td> <td>10.3 </td> <td>1.0  </td> <td>117.0</td> <td>.153 </td> <td>2.1 </td> <td>38.2</td>\n",
       "        </tr>\n",
       "    </tbody>\n",
       "        <tr>\n",
       "            <td>5   </td> <td>5   </td> <td>MIA </td> <td>Steve Smith    </td> <td>Michigan State University      </td> <td>14  </td> <td>942 </td> <td>28855</td> <td>13430</td> <td>3060 </td> <td>2922</td> <td>.440</td> <td>.358</td> <td>.845</td> <td>30.6</td> <td>14.3 </td> <td>3.2  </td> <td>3.1  </td> <td>83.7 </td> <td>.139 </td> <td>1.4 </td> <td>24.4</td>\n",
       "        </tr>\n",
       "    </tbody>\n",
       "        <tr>\n",
       "            <td>6   </td> <td>6   </td> <td>DAL </td> <td>Doug Smith     </td> <td>University of Missouri         </td> <td>5   </td> <td>296 </td> <td>5833 </td> <td>2356 </td> <td>1234 </td> <td>400 </td> <td>.425</td> <td>.083</td> <td>.773</td> <td>19.7</td> <td>8.0  </td> <td>4.2  </td> <td>1.4  </td> <td>3.0  </td> <td>.024 </td> <td>-3.0</td> <td>-1.5</td>\n",
       "        </tr>\n",
       "    </tbody>\n",
       "        <tr>\n",
       "            <td>7   </td> <td>7   </td> <td>MIN </td> <td>Luc Longley    </td> <td>University of New Mexico       </td> <td>10  </td> <td>567 </td> <td>12006</td> <td>4090 </td> <td>2794 </td> <td>836 </td> <td>.462</td> <td>.000</td> <td>.760</td> <td>21.2</td> <td>7.2  </td> <td>4.9  </td> <td>1.5  </td> <td>17.5 </td> <td>.070 </td> <td>-1.5</td> <td>1.5 </td>\n",
       "        </tr>\n",
       "    </tbody>\n",
       "        <tr>\n",
       "            <td>8   </td> <td>8   </td> <td>DEN </td> <td>Mark Macon     </td> <td>Temple University              </td> <td>6   </td> <td>251 </td> <td>5018 </td> <td>1685 </td> <td>467  </td> <td>428 </td> <td>.384</td> <td>.270</td> <td>.735</td> <td>20.0</td> <td>6.7  </td> <td>1.9  </td> <td>1.7  </td> <td>0.1  </td> <td>.001 </td> <td>-3.2</td> <td>-1.5</td>\n",
       "        </tr>\n",
       "    </tbody>\n",
       "        <tr>\n",
       "            <td>9   </td> <td>9   </td> <td>ATL </td> <td>Stacey Augmon  </td> <td>University of Nevada Las Vegas </td> <td>15  </td> <td>1001</td> <td>21658</td> <td>7990 </td> <td>3216 </td> <td>1561</td> <td>.469</td> <td>.152</td> <td>.728</td> <td>21.6</td> <td>8.0  </td> <td>3.2  </td> <td>1.6  </td> <td>43.8 </td> <td>.097 </td> <td>-0.2</td> <td>9.8 </td>\n",
       "        </tr>\n",
       "    </tbody>\n",
       "        <tr>\n",
       "            <td>10  </td> <td>10  </td> <td>ORL </td> <td>Bison Dele     </td> <td>University of Arizona          </td> <td>8   </td> <td>413 </td> <td>10004</td> <td>4536 </td> <td>2564 </td> <td>440 </td> <td>.528</td> <td>.143</td> <td>.691</td> <td>24.2</td> <td>11.0 </td> <td>6.2  </td> <td>1.1  </td> <td>22.8 </td> <td>.109 </td> <td>-0.3</td> <td>4.4 </td>\n",
       "        </tr>\n",
       "    </tbody>\n",
       "</table>\n",
       "<p>... (46 rows omitted)</p"
      ],
      "text/plain": [
       "Rk   | Pk   | Tm   | Player          | College                         | Yrs  | G    | MP    | PTS   | TRB   | AST  | FG%  | 3P%  | FT%  | MP.1 | PTS.1 | TRB.1 | AST.1 | WS    | WS/48 | BPM  | VORP\n",
       "1    | 1    | CHH  | Larry Johnson   | University of Nevada Las Vegas  | 10   | 707  | 25685 | 11450 | 5300  | 2298 | .484 | .332 | .766 | 36.3 | 16.2  | 7.5   | 3.3   | 69.7  | .130  | 2.4  | 28.3\n",
       "2    | 2    | NJN  | Kenny Anderson  | Georgia Institute of Technology | 14   | 858  | 25868 | 10789 | 2641  | 5196 | .421 | .346 | .790 | 30.1 | 12.6  | 3.1   | 6.1   | 62.5  | .116  | 0.8  | 18.0\n",
       "3    | 3    | SAC  | Billy Owens     | Syracuse University             | 10   | 600  | 17619 | 7026  | 4016  | 1704 | .481 | .291 | .629 | 29.4 | 11.7  | 6.7   | 2.8   | 28.6  | .078  | 0.5  | 11.2\n",
       "4    | 4    | DEN  | Dikembe Mutombo | Georgetown University           | 18   | 1196 | 36791 | 11729 | 12359 | 1240 | .518 | .000 | .684 | 30.8 | 9.8   | 10.3  | 1.0   | 117.0 | .153  | 2.1  | 38.2\n",
       "5    | 5    | MIA  | Steve Smith     | Michigan State University       | 14   | 942  | 28855 | 13430 | 3060  | 2922 | .440 | .358 | .845 | 30.6 | 14.3  | 3.2   | 3.1   | 83.7  | .139  | 1.4  | 24.4\n",
       "6    | 6    | DAL  | Doug Smith      | University of Missouri          | 5    | 296  | 5833  | 2356  | 1234  | 400  | .425 | .083 | .773 | 19.7 | 8.0   | 4.2   | 1.4   | 3.0   | .024  | -3.0 | -1.5\n",
       "7    | 7    | MIN  | Luc Longley     | University of New Mexico        | 10   | 567  | 12006 | 4090  | 2794  | 836  | .462 | .000 | .760 | 21.2 | 7.2   | 4.9   | 1.5   | 17.5  | .070  | -1.5 | 1.5\n",
       "8    | 8    | DEN  | Mark Macon      | Temple University               | 6    | 251  | 5018  | 1685  | 467   | 428  | .384 | .270 | .735 | 20.0 | 6.7   | 1.9   | 1.7   | 0.1   | .001  | -3.2 | -1.5\n",
       "9    | 9    | ATL  | Stacey Augmon   | University of Nevada Las Vegas  | 15   | 1001 | 21658 | 7990  | 3216  | 1561 | .469 | .152 | .728 | 21.6 | 8.0   | 3.2   | 1.6   | 43.8  | .097  | -0.2 | 9.8\n",
       "10   | 10   | ORL  | Bison Dele      | University of Arizona           | 8    | 413  | 10004 | 4536  | 2564  | 440  | .528 | .143 | .691 | 24.2 | 11.0  | 6.2   | 1.1   | 22.8  | .109  | -0.3 | 4.4\n",
       "... (46 rows omitted)"
      ]
     },
     "execution_count": 24,
     "metadata": {},
     "output_type": "execute_result"
    }
   ],
   "source": [
    "draft_data[1991]"
   ]
  },
  {
   "cell_type": "code",
   "execution_count": 28,
   "metadata": {
    "collapsed": false
   },
   "outputs": [],
   "source": [
    "t = Table.read_table('test.csv')"
   ]
  },
  {
   "cell_type": "code",
   "execution_count": 29,
   "metadata": {
    "collapsed": false
   },
   "outputs": [
    {
     "data": {
      "text/html": [
       "<table border=\"1\" class=\"dataframe\">\n",
       "    <thead>\n",
       "        <tr>\n",
       "            <th>TEMP_PLAYER_ID</th> <th>PLAYER_ID</th> <th>FIRST_NAME</th> <th>LAST_NAME</th> <th>PLAYER_NAME</th> <th>POSITION</th> <th>HEIGHT_WO_SHOES</th> <th>HEIGHT_WO_SHOES_FT_IN</th> <th>HEIGHT_W_SHOES</th> <th>HEIGHT_W_SHOES_FT_IN</th> <th>WEIGHT</th> <th>WINGSPAN</th> <th>WINGSPAN_FT_IN</th> <th>STANDING_REACH</th> <th>STANDING_REACH_FT_IN</th> <th>BODY_FAT_PCT</th> <th>HAND_LENGTH</th> <th>HAND_WIDTH</th>\n",
       "        </tr>\n",
       "    </thead>\n",
       "    <tbody>\n",
       "        <tr>\n",
       "            <td>15000         </td> <td>nan      </td> <td>Cliff     </td> <td>Alexander   </td> <td>Cliff Alexander    </td> <td>PF-C    </td> <td>79.25          </td> <td>6' 7.25''            </td> <td>80.5          </td> <td>6' 8.5''            </td> <td>239.2 </td> <td>87.5    </td> <td>7' 3.5''      </td> <td>109.5         </td> <td>9' 1.5''            </td> <td>5.8         </td> <td>9.5        </td> <td>10.25     </td>\n",
       "        </tr>\n",
       "    </tbody>\n",
       "        <tr>\n",
       "            <td>15001         </td> <td>nan      </td> <td>Justin    </td> <td>Anderson    </td> <td>Justin Anderson    </td> <td>SF-SG   </td> <td>77.25          </td> <td>6' 5.25''            </td> <td>78.25         </td> <td>6' 6.25''           </td> <td>230.6 </td> <td>83.75   </td> <td>6' 11.75''    </td> <td>101           </td> <td>8' 5''              </td> <td>5           </td> <td>8.5        </td> <td>9.5       </td>\n",
       "        </tr>\n",
       "    </tbody>\n",
       "        <tr>\n",
       "            <td>15002         </td> <td>nan      </td> <td>Brandon   </td> <td>Ashley      </td> <td>Brandon Ashley     </td> <td>PF      </td> <td>79.25          </td> <td>6' 7.25''            </td> <td>80.5          </td> <td>6' 8.5''            </td> <td>228   </td> <td>87.75   </td> <td>7' 3.75''     </td> <td>105           </td> <td>8' 9''              </td> <td>8.8         </td> <td>9          </td> <td>9.5       </td>\n",
       "        </tr>\n",
       "    </tbody>\n",
       "        <tr>\n",
       "            <td>15003         </td> <td>nan      </td> <td>Ryan      </td> <td>Boatright   </td> <td>Ryan Boatright     </td> <td>PG      </td> <td>70             </td> <td>5' 10''              </td> <td>71            </td> <td>5' 11''             </td> <td>169.6 </td> <td>72.5    </td> <td>6' 0.5''      </td> <td>92.5          </td> <td>7' 8.5''            </td> <td>6.6         </td> <td>7.5        </td> <td>8.75      </td>\n",
       "        </tr>\n",
       "    </tbody>\n",
       "        <tr>\n",
       "            <td>15004         </td> <td>nan      </td> <td>Devin     </td> <td>Booker      </td> <td>Devin Booker       </td> <td>SG      </td> <td>76.5           </td> <td>6' 4.5''             </td> <td>77.75         </td> <td>6' 5.75''           </td> <td>205.8 </td> <td>80.25   </td> <td>6' 8.25''     </td> <td>102.5         </td> <td>8' 6.5''            </td> <td>8.3         </td> <td>8.75       </td> <td>9         </td>\n",
       "        </tr>\n",
       "    </tbody>\n",
       "        <tr>\n",
       "            <td>15005         </td> <td>nan      </td> <td>Anthony   </td> <td>Brown       </td> <td>Anthony Brown      </td> <td>SF-SG   </td> <td>77.75          </td> <td>6' 5.75''            </td> <td>79.25         </td> <td>6' 7.25''           </td> <td>211   </td> <td>83      </td> <td>6' 11''       </td> <td>104.5         </td> <td>8' 8.5''            </td> <td>6.1         </td> <td>8.5        </td> <td>9         </td>\n",
       "        </tr>\n",
       "    </tbody>\n",
       "        <tr>\n",
       "            <td>15006         </td> <td>nan      </td> <td>Willie    </td> <td>Cauley-Stein</td> <td>Willie Cauley-Stein</td> <td>C       </td> <td>83.25          </td> <td>6' 11.25''           </td> <td>84.5          </td> <td>7' 0.5''            </td> <td>242.4 </td> <td>87      </td> <td>7' 3''        </td> <td>111           </td> <td>9' 3''              </td> <td>6.3         </td> <td>9.5        </td> <td>9         </td>\n",
       "        </tr>\n",
       "    </tbody>\n",
       "        <tr>\n",
       "            <td>15007         </td> <td>nan      </td> <td>Rakeem    </td> <td>Christmas   </td> <td>Rakeem Christmas   </td> <td>PF-C    </td> <td>80.25          </td> <td>6' 8.25''            </td> <td>81.75         </td> <td>6' 9.75''           </td> <td>242.6 </td> <td>89.25   </td> <td>7' 5.25''     </td> <td>110.5         </td> <td>9' 2.5''            </td> <td>9.6         </td> <td>9.25       </td> <td>9         </td>\n",
       "        </tr>\n",
       "    </tbody>\n",
       "        <tr>\n",
       "            <td>15008         </td> <td>nan      </td> <td>Pat       </td> <td>Connaughton </td> <td>Pat Connaughton    </td> <td>SG      </td> <td>76             </td> <td>6' 4''               </td> <td>77.25         </td> <td>6' 5.25''           </td> <td>215   </td> <td>80      </td> <td>6' 8''        </td> <td>96            </td> <td>8' 0''              </td> <td>10.2        </td> <td>8.5        </td> <td>9.25      </td>\n",
       "        </tr>\n",
       "    </tbody>\n",
       "        <tr>\n",
       "            <td>15009         </td> <td>nan      </td> <td>Quinn     </td> <td>Cook        </td> <td>Quinn Cook         </td> <td>PG      </td> <td>72.25          </td> <td>6' 0.25''            </td> <td>74            </td> <td>6' 2''              </td> <td>179   </td> <td>76      </td> <td>6' 4''        </td> <td>96.5          </td> <td>8' 0.5''            </td> <td>6.7         </td> <td>7.5        </td> <td>8.75      </td>\n",
       "        </tr>\n",
       "    </tbody>\n",
       "</table>\n",
       "<p>... (53 rows omitted)</p"
      ],
      "text/plain": [
       "TEMP_PLAYER_ID | PLAYER_ID | FIRST_NAME | LAST_NAME    | PLAYER_NAME         | POSITION | HEIGHT_WO_SHOES | HEIGHT_WO_SHOES_FT_IN | HEIGHT_W_SHOES | HEIGHT_W_SHOES_FT_IN | WEIGHT | WINGSPAN | WINGSPAN_FT_IN | STANDING_REACH | STANDING_REACH_FT_IN | BODY_FAT_PCT | HAND_LENGTH | HAND_WIDTH\n",
       "15000          | nan       | Cliff      | Alexander    | Cliff Alexander     | PF-C     | 79.25           | 6' 7.25''             | 80.5           | 6' 8.5''             | 239.2  | 87.5     | 7' 3.5''       | 109.5          | 9' 1.5''             | 5.8          | 9.5         | 10.25\n",
       "15001          | nan       | Justin     | Anderson     | Justin Anderson     | SF-SG    | 77.25           | 6' 5.25''             | 78.25          | 6' 6.25''            | 230.6  | 83.75    | 6' 11.75''     | 101            | 8' 5''               | 5            | 8.5         | 9.5\n",
       "15002          | nan       | Brandon    | Ashley       | Brandon Ashley      | PF       | 79.25           | 6' 7.25''             | 80.5           | 6' 8.5''             | 228    | 87.75    | 7' 3.75''      | 105            | 8' 9''               | 8.8          | 9           | 9.5\n",
       "15003          | nan       | Ryan       | Boatright    | Ryan Boatright      | PG       | 70              | 5' 10''               | 71             | 5' 11''              | 169.6  | 72.5     | 6' 0.5''       | 92.5           | 7' 8.5''             | 6.6          | 7.5         | 8.75\n",
       "15004          | nan       | Devin      | Booker       | Devin Booker        | SG       | 76.5            | 6' 4.5''              | 77.75          | 6' 5.75''            | 205.8  | 80.25    | 6' 8.25''      | 102.5          | 8' 6.5''             | 8.3          | 8.75        | 9\n",
       "15005          | nan       | Anthony    | Brown        | Anthony Brown       | SF-SG    | 77.75           | 6' 5.75''             | 79.25          | 6' 7.25''            | 211    | 83       | 6' 11''        | 104.5          | 8' 8.5''             | 6.1          | 8.5         | 9\n",
       "15006          | nan       | Willie     | Cauley-Stein | Willie Cauley-Stein | C        | 83.25           | 6' 11.25''            | 84.5           | 7' 0.5''             | 242.4  | 87       | 7' 3''         | 111            | 9' 3''               | 6.3          | 9.5         | 9\n",
       "15007          | nan       | Rakeem     | Christmas    | Rakeem Christmas    | PF-C     | 80.25           | 6' 8.25''             | 81.75          | 6' 9.75''            | 242.6  | 89.25    | 7' 5.25''      | 110.5          | 9' 2.5''             | 9.6          | 9.25        | 9\n",
       "15008          | nan       | Pat        | Connaughton  | Pat Connaughton     | SG       | 76              | 6' 4''                | 77.25          | 6' 5.25''            | 215    | 80       | 6' 8''         | 96             | 8' 0''               | 10.2         | 8.5         | 9.25\n",
       "15009          | nan       | Quinn      | Cook         | Quinn Cook          | PG       | 72.25           | 6' 0.25''             | 74             | 6' 2''               | 179    | 76       | 6' 4''         | 96.5           | 8' 0.5''             | 6.7          | 7.5         | 8.75\n",
       "... (53 rows omitted)"
      ]
     },
     "execution_count": 29,
     "metadata": {},
     "output_type": "execute_result"
    }
   ],
   "source": [
    "t"
   ]
  },
  {
   "cell_type": "code",
   "execution_count": 30,
   "metadata": {
    "collapsed": true
   },
   "outputs": [],
   "source": [
    "a = Table.read_table('data/combines/anthro_2002.csv')"
   ]
  },
  {
   "cell_type": "code",
   "execution_count": 31,
   "metadata": {
    "collapsed": false
   },
   "outputs": [
    {
     "data": {
      "text/html": [
       "<table border=\"1\" class=\"dataframe\">\n",
       "    <thead>\n",
       "        <tr>\n",
       "            <th>TEMP_PLAYER_ID</th> <th>PLAYER_ID</th> <th>FIRST_NAME</th> <th>LAST_NAME</th> <th>PLAYER_NAME</th> <th>POSITION</th> <th>HEIGHT_WO_SHOES</th> <th>HEIGHT_WO_SHOES_FT_IN</th> <th>HEIGHT_W_SHOES</th> <th>HEIGHT_W_SHOES_FT_IN</th> <th>WEIGHT</th> <th>WINGSPAN</th> <th>WINGSPAN_FT_IN</th> <th>STANDING_REACH</th> <th>STANDING_REACH_FT_IN</th> <th>BODY_FAT_PCT</th> <th>HAND_LENGTH</th> <th>HAND_WIDTH</th>\n",
       "        </tr>\n",
       "    </thead>\n",
       "    <tbody>\n",
       "        <tr>\n",
       "            <td>nan           </td> <td>12033    </td> <td>Adam      </td> <td>Allenspach     </td> <td>Adam Allenspach      </td> <td>C       </td> <td>83.5           </td> <td>6' 11.5''            </td> <td>nan           </td> <td>nan                 </td> <td>259   </td> <td>84.5    </td> <td>7' 0.5''      </td> <td>107           </td> <td>8' 11''             </td> <td>12.4        </td> <td>nan        </td> <td>nan       </td>\n",
       "        </tr>\n",
       "    </tbody>\n",
       "        <tr>\n",
       "            <td>nan           </td> <td>2240     </td> <td>Gilbert   </td> <td>Arenas         </td> <td>Gilbert Arenas       </td> <td>SG      </td> <td>74.25          </td> <td>6' 2.25''            </td> <td>nan           </td> <td>nan                 </td> <td>199   </td> <td>81.5    </td> <td>6' 9.5''      </td> <td>99.5          </td> <td>8' 3.5''            </td> <td>5.3         </td> <td>nan        </td> <td>nan       </td>\n",
       "        </tr>\n",
       "    </tbody>\n",
       "        <tr>\n",
       "            <td>nan           </td> <td>2220     </td> <td>Brandon   </td> <td>Armstrong      </td> <td>Brandon Armstrong    </td> <td>SG      </td> <td>75.5           </td> <td>6' 3.5''             </td> <td>nan           </td> <td>nan                 </td> <td>188   </td> <td>81.5    </td> <td>6' 9.5''      </td> <td>99.5          </td> <td>8' 3.5''            </td> <td>9.3         </td> <td>nan        </td> <td>nan       </td>\n",
       "        </tr>\n",
       "    </tbody>\n",
       "        <tr>\n",
       "            <td>nan           </td> <td>2203     </td> <td>Shane     </td> <td>Battier        </td> <td>Shane Battier        </td> <td>SF-PF   </td> <td>80.25          </td> <td>6' 8.25''            </td> <td>nan           </td> <td>nan                 </td> <td>229   </td> <td>82.5    </td> <td>6' 10.5''     </td> <td>105           </td> <td>8' 9''              </td> <td>9.3         </td> <td>nan        </td> <td>nan       </td>\n",
       "        </tr>\n",
       "    </tbody>\n",
       "        <tr>\n",
       "            <td>nan           </td> <td>12034    </td> <td>Cookie    </td> <td>Belcher        </td> <td>Cookie Belcher       </td> <td>SG-PG   </td> <td>75             </td> <td>6' 3''               </td> <td>nan           </td> <td>nan                 </td> <td>206   </td> <td>80.5    </td> <td>6' 8.5''      </td> <td>99            </td> <td>8' 3''              </td> <td>5.3         </td> <td>nan        </td> <td>nan       </td>\n",
       "        </tr>\n",
       "    </tbody>\n",
       "        <tr>\n",
       "            <td>nan           </td> <td>2294     </td> <td>Charlie   </td> <td>Bell           </td> <td>Charlie Bell         </td> <td>PG      </td> <td>74.5           </td> <td>6' 2.5''             </td> <td>nan           </td> <td>nan                 </td> <td>200   </td> <td>79.5    </td> <td>6' 7.5''      </td> <td>97.5          </td> <td>8' 1.5''            </td> <td>6.7         </td> <td>nan        </td> <td>nan       </td>\n",
       "        </tr>\n",
       "    </tbody>\n",
       "        <tr>\n",
       "            <td>nan           </td> <td>2257     </td> <td>Ruben     </td> <td>Boumtje-Boumtje</td> <td>Ruben Boumtje-Boumtje</td> <td>C       </td> <td>83.5           </td> <td>6' 11.5''            </td> <td>nan           </td> <td>nan                 </td> <td>245   </td> <td>88      </td> <td>7' 4''        </td> <td>111           </td> <td>9' 3''              </td> <td>6           </td> <td>nan        </td> <td>nan       </td>\n",
       "        </tr>\n",
       "    </tbody>\n",
       "        <tr>\n",
       "            <td>nan           </td> <td>12035    </td> <td>Calvin    </td> <td>Bowman         </td> <td>Calvin Bowman        </td> <td>PF      </td> <td>80.75          </td> <td>6' 8.75''            </td> <td>nan           </td> <td>nan                 </td> <td>214   </td> <td>83.5    </td> <td>6' 11.5''     </td> <td>104           </td> <td>8' 8''              </td> <td>8.6         </td> <td>nan        </td> <td>nan       </td>\n",
       "        </tr>\n",
       "    </tbody>\n",
       "        <tr>\n",
       "            <td>nan           </td> <td>2214     </td> <td>Michael   </td> <td>Bradley        </td> <td>Michael Bradley      </td> <td>PF      </td> <td>81.5           </td> <td>6' 9.5''             </td> <td>nan           </td> <td>nan                 </td> <td>227   </td> <td>85.5    </td> <td>7' 1.5''      </td> <td>107           </td> <td>8' 11''             </td> <td>9.3         </td> <td>nan        </td> <td>nan       </td>\n",
       "        </tr>\n",
       "    </tbody>\n",
       "        <tr>\n",
       "            <td>nan           </td> <td>2249     </td> <td>Jamison   </td> <td>Brewer         </td> <td>Jamison Brewer       </td> <td>PG      </td> <td>74.5           </td> <td>6' 2.5''             </td> <td>nan           </td> <td>nan                 </td> <td>178   </td> <td>80.75   </td> <td>6' 8.75''     </td> <td>102.5         </td> <td>8' 6.5''            </td> <td>6.7         </td> <td>nan        </td> <td>nan       </td>\n",
       "        </tr>\n",
       "    </tbody>\n",
       "</table>\n",
       "<p>... (68 rows omitted)</p"
      ],
      "text/plain": [
       "TEMP_PLAYER_ID | PLAYER_ID | FIRST_NAME | LAST_NAME       | PLAYER_NAME           | POSITION | HEIGHT_WO_SHOES | HEIGHT_WO_SHOES_FT_IN | HEIGHT_W_SHOES | HEIGHT_W_SHOES_FT_IN | WEIGHT | WINGSPAN | WINGSPAN_FT_IN | STANDING_REACH | STANDING_REACH_FT_IN | BODY_FAT_PCT | HAND_LENGTH | HAND_WIDTH\n",
       "nan            | 12033     | Adam       | Allenspach      | Adam Allenspach       | C        | 83.5            | 6' 11.5''             | nan            | nan                  | 259    | 84.5     | 7' 0.5''       | 107            | 8' 11''              | 12.4         | nan         | nan\n",
       "nan            | 2240      | Gilbert    | Arenas          | Gilbert Arenas        | SG       | 74.25           | 6' 2.25''             | nan            | nan                  | 199    | 81.5     | 6' 9.5''       | 99.5           | 8' 3.5''             | 5.3          | nan         | nan\n",
       "nan            | 2220      | Brandon    | Armstrong       | Brandon Armstrong     | SG       | 75.5            | 6' 3.5''              | nan            | nan                  | 188    | 81.5     | 6' 9.5''       | 99.5           | 8' 3.5''             | 9.3          | nan         | nan\n",
       "nan            | 2203      | Shane      | Battier         | Shane Battier         | SF-PF    | 80.25           | 6' 8.25''             | nan            | nan                  | 229    | 82.5     | 6' 10.5''      | 105            | 8' 9''               | 9.3          | nan         | nan\n",
       "nan            | 12034     | Cookie     | Belcher         | Cookie Belcher        | SG-PG    | 75              | 6' 3''                | nan            | nan                  | 206    | 80.5     | 6' 8.5''       | 99             | 8' 3''               | 5.3          | nan         | nan\n",
       "nan            | 2294      | Charlie    | Bell            | Charlie Bell          | PG       | 74.5            | 6' 2.5''              | nan            | nan                  | 200    | 79.5     | 6' 7.5''       | 97.5           | 8' 1.5''             | 6.7          | nan         | nan\n",
       "nan            | 2257      | Ruben      | Boumtje-Boumtje | Ruben Boumtje-Boumtje | C        | 83.5            | 6' 11.5''             | nan            | nan                  | 245    | 88       | 7' 4''         | 111            | 9' 3''               | 6            | nan         | nan\n",
       "nan            | 12035     | Calvin     | Bowman          | Calvin Bowman         | PF       | 80.75           | 6' 8.75''             | nan            | nan                  | 214    | 83.5     | 6' 11.5''      | 104            | 8' 8''               | 8.6          | nan         | nan\n",
       "nan            | 2214      | Michael    | Bradley         | Michael Bradley       | PF       | 81.5            | 6' 9.5''              | nan            | nan                  | 227    | 85.5     | 7' 1.5''       | 107            | 8' 11''              | 9.3          | nan         | nan\n",
       "nan            | 2249      | Jamison    | Brewer          | Jamison Brewer        | PG       | 74.5            | 6' 2.5''              | nan            | nan                  | 178    | 80.75    | 6' 8.75''      | 102.5          | 8' 6.5''             | 6.7          | nan         | nan\n",
       "... (68 rows omitted)"
      ]
     },
     "execution_count": 31,
     "metadata": {},
     "output_type": "execute_result"
    }
   ],
   "source": [
    "a"
   ]
  },
  {
   "cell_type": "code",
   "execution_count": null,
   "metadata": {
    "collapsed": true
   },
   "outputs": [],
   "source": []
  }
 ],
 "metadata": {
  "kernelspec": {
   "display_name": "Python 3",
   "language": "python",
   "name": "python3"
  },
  "language_info": {
   "codemirror_mode": {
    "name": "ipython",
    "version": 3
   },
   "file_extension": ".py",
   "mimetype": "text/x-python",
   "name": "python",
   "nbconvert_exporter": "python",
   "pygments_lexer": "ipython3",
   "version": "3.5.1"
  }
 },
 "nbformat": 4,
 "nbformat_minor": 0
}
