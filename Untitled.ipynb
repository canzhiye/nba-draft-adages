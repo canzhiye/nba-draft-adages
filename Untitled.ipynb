{
 "cells": [
  {
   "cell_type": "code",
   "execution_count": 3,
   "metadata": {
    "collapsed": true
   },
   "outputs": [],
   "source": [
    "from datascience import Table"
   ]
  },
  {
   "cell_type": "code",
   "execution_count": 23,
   "metadata": {
    "collapsed": false
   },
   "outputs": [],
   "source": [
    "draft_data = [Table.read_table('data/drafts/draft_NBA_' + str(i) + '_stats.csv') if i > 1990 else None for i in range(0, 2016)]"
   ]
  },
  {
   "cell_type": "code",
   "execution_count": 24,
   "metadata": {
    "collapsed": false
   },
   "outputs": [
    {
     "data": {
      "text/html": [
       "<table border=\"1\" class=\"dataframe\">\n",
       "    <thead>\n",
       "        <tr>\n",
       "            <th>Rk</th> <th>Pk</th> <th>Tm</th> <th>Player</th> <th>College</th> <th>Yrs</th> <th>G</th> <th>MP</th> <th>PTS</th> <th>TRB</th> <th>AST</th> <th>FG%</th> <th>3P%</th> <th>FT%</th> <th>MP.1</th> <th>PTS.1</th> <th>TRB.1</th> <th>AST.1</th> <th>WS</th> <th>WS/48</th> <th>BPM</th> <th>VORP</th>\n",
       "        </tr>\n",
       "    </thead>\n",
       "    <tbody>\n",
       "        <tr>\n",
       "            <td>1   </td> <td>1   </td> <td>CHH </td> <td>Larry Johnson  </td> <td>University of Nevada Las Vegas </td> <td>10  </td> <td>707 </td> <td>25685</td> <td>11450</td> <td>5300 </td> <td>2298</td> <td>.484</td> <td>.332</td> <td>.766</td> <td>36.3</td> <td>16.2 </td> <td>7.5  </td> <td>3.3  </td> <td>69.7 </td> <td>.130 </td> <td>2.4 </td> <td>28.3</td>\n",
       "        </tr>\n",
       "    </tbody>\n",
       "        <tr>\n",
       "            <td>2   </td> <td>2   </td> <td>NJN </td> <td>Kenny Anderson </td> <td>Georgia Institute of Technology</td> <td>14  </td> <td>858 </td> <td>25868</td> <td>10789</td> <td>2641 </td> <td>5196</td> <td>.421</td> <td>.346</td> <td>.790</td> <td>30.1</td> <td>12.6 </td> <td>3.1  </td> <td>6.1  </td> <td>62.5 </td> <td>.116 </td> <td>0.8 </td> <td>18.0</td>\n",
       "        </tr>\n",
       "    </tbody>\n",
       "        <tr>\n",
       "            <td>3   </td> <td>3   </td> <td>SAC </td> <td>Billy Owens    </td> <td>Syracuse University            </td> <td>10  </td> <td>600 </td> <td>17619</td> <td>7026 </td> <td>4016 </td> <td>1704</td> <td>.481</td> <td>.291</td> <td>.629</td> <td>29.4</td> <td>11.7 </td> <td>6.7  </td> <td>2.8  </td> <td>28.6 </td> <td>.078 </td> <td>0.5 </td> <td>11.2</td>\n",
       "        </tr>\n",
       "    </tbody>\n",
       "        <tr>\n",
       "            <td>4   </td> <td>4   </td> <td>DEN </td> <td>Dikembe Mutombo</td> <td>Georgetown University          </td> <td>18  </td> <td>1196</td> <td>36791</td> <td>11729</td> <td>12359</td> <td>1240</td> <td>.518</td> <td>.000</td> <td>.684</td> <td>30.8</td> <td>9.8  </td> <td>10.3 </td> <td>1.0  </td> <td>117.0</td> <td>.153 </td> <td>2.1 </td> <td>38.2</td>\n",
       "        </tr>\n",
       "    </tbody>\n",
       "        <tr>\n",
       "            <td>5   </td> <td>5   </td> <td>MIA </td> <td>Steve Smith    </td> <td>Michigan State University      </td> <td>14  </td> <td>942 </td> <td>28855</td> <td>13430</td> <td>3060 </td> <td>2922</td> <td>.440</td> <td>.358</td> <td>.845</td> <td>30.6</td> <td>14.3 </td> <td>3.2  </td> <td>3.1  </td> <td>83.7 </td> <td>.139 </td> <td>1.4 </td> <td>24.4</td>\n",
       "        </tr>\n",
       "    </tbody>\n",
       "        <tr>\n",
       "            <td>6   </td> <td>6   </td> <td>DAL </td> <td>Doug Smith     </td> <td>University of Missouri         </td> <td>5   </td> <td>296 </td> <td>5833 </td> <td>2356 </td> <td>1234 </td> <td>400 </td> <td>.425</td> <td>.083</td> <td>.773</td> <td>19.7</td> <td>8.0  </td> <td>4.2  </td> <td>1.4  </td> <td>3.0  </td> <td>.024 </td> <td>-3.0</td> <td>-1.5</td>\n",
       "        </tr>\n",
       "    </tbody>\n",
       "        <tr>\n",
       "            <td>7   </td> <td>7   </td> <td>MIN </td> <td>Luc Longley    </td> <td>University of New Mexico       </td> <td>10  </td> <td>567 </td> <td>12006</td> <td>4090 </td> <td>2794 </td> <td>836 </td> <td>.462</td> <td>.000</td> <td>.760</td> <td>21.2</td> <td>7.2  </td> <td>4.9  </td> <td>1.5  </td> <td>17.5 </td> <td>.070 </td> <td>-1.5</td> <td>1.5 </td>\n",
       "        </tr>\n",
       "    </tbody>\n",
       "        <tr>\n",
       "            <td>8   </td> <td>8   </td> <td>DEN </td> <td>Mark Macon     </td> <td>Temple University              </td> <td>6   </td> <td>251 </td> <td>5018 </td> <td>1685 </td> <td>467  </td> <td>428 </td> <td>.384</td> <td>.270</td> <td>.735</td> <td>20.0</td> <td>6.7  </td> <td>1.9  </td> <td>1.7  </td> <td>0.1  </td> <td>.001 </td> <td>-3.2</td> <td>-1.5</td>\n",
       "        </tr>\n",
       "    </tbody>\n",
       "        <tr>\n",
       "            <td>9   </td> <td>9   </td> <td>ATL </td> <td>Stacey Augmon  </td> <td>University of Nevada Las Vegas </td> <td>15  </td> <td>1001</td> <td>21658</td> <td>7990 </td> <td>3216 </td> <td>1561</td> <td>.469</td> <td>.152</td> <td>.728</td> <td>21.6</td> <td>8.0  </td> <td>3.2  </td> <td>1.6  </td> <td>43.8 </td> <td>.097 </td> <td>-0.2</td> <td>9.8 </td>\n",
       "        </tr>\n",
       "    </tbody>\n",
       "        <tr>\n",
       "            <td>10  </td> <td>10  </td> <td>ORL </td> <td>Bison Dele     </td> <td>University of Arizona          </td> <td>8   </td> <td>413 </td> <td>10004</td> <td>4536 </td> <td>2564 </td> <td>440 </td> <td>.528</td> <td>.143</td> <td>.691</td> <td>24.2</td> <td>11.0 </td> <td>6.2  </td> <td>1.1  </td> <td>22.8 </td> <td>.109 </td> <td>-0.3</td> <td>4.4 </td>\n",
       "        </tr>\n",
       "    </tbody>\n",
       "</table>\n",
       "<p>... (46 rows omitted)</p"
      ],
      "text/plain": [
       "Rk   | Pk   | Tm   | Player          | College                         | Yrs  | G    | MP    | PTS   | TRB   | AST  | FG%  | 3P%  | FT%  | MP.1 | PTS.1 | TRB.1 | AST.1 | WS    | WS/48 | BPM  | VORP\n",
       "1    | 1    | CHH  | Larry Johnson   | University of Nevada Las Vegas  | 10   | 707  | 25685 | 11450 | 5300  | 2298 | .484 | .332 | .766 | 36.3 | 16.2  | 7.5   | 3.3   | 69.7  | .130  | 2.4  | 28.3\n",
       "2    | 2    | NJN  | Kenny Anderson  | Georgia Institute of Technology | 14   | 858  | 25868 | 10789 | 2641  | 5196 | .421 | .346 | .790 | 30.1 | 12.6  | 3.1   | 6.1   | 62.5  | .116  | 0.8  | 18.0\n",
       "3    | 3    | SAC  | Billy Owens     | Syracuse University             | 10   | 600  | 17619 | 7026  | 4016  | 1704 | .481 | .291 | .629 | 29.4 | 11.7  | 6.7   | 2.8   | 28.6  | .078  | 0.5  | 11.2\n",
       "4    | 4    | DEN  | Dikembe Mutombo | Georgetown University           | 18   | 1196 | 36791 | 11729 | 12359 | 1240 | .518 | .000 | .684 | 30.8 | 9.8   | 10.3  | 1.0   | 117.0 | .153  | 2.1  | 38.2\n",
       "5    | 5    | MIA  | Steve Smith     | Michigan State University       | 14   | 942  | 28855 | 13430 | 3060  | 2922 | .440 | .358 | .845 | 30.6 | 14.3  | 3.2   | 3.1   | 83.7  | .139  | 1.4  | 24.4\n",
       "6    | 6    | DAL  | Doug Smith      | University of Missouri          | 5    | 296  | 5833  | 2356  | 1234  | 400  | .425 | .083 | .773 | 19.7 | 8.0   | 4.2   | 1.4   | 3.0   | .024  | -3.0 | -1.5\n",
       "7    | 7    | MIN  | Luc Longley     | University of New Mexico        | 10   | 567  | 12006 | 4090  | 2794  | 836  | .462 | .000 | .760 | 21.2 | 7.2   | 4.9   | 1.5   | 17.5  | .070  | -1.5 | 1.5\n",
       "8    | 8    | DEN  | Mark Macon      | Temple University               | 6    | 251  | 5018  | 1685  | 467   | 428  | .384 | .270 | .735 | 20.0 | 6.7   | 1.9   | 1.7   | 0.1   | .001  | -3.2 | -1.5\n",
       "9    | 9    | ATL  | Stacey Augmon   | University of Nevada Las Vegas  | 15   | 1001 | 21658 | 7990  | 3216  | 1561 | .469 | .152 | .728 | 21.6 | 8.0   | 3.2   | 1.6   | 43.8  | .097  | -0.2 | 9.8\n",
       "10   | 10   | ORL  | Bison Dele      | University of Arizona           | 8    | 413  | 10004 | 4536  | 2564  | 440  | .528 | .143 | .691 | 24.2 | 11.0  | 6.2   | 1.1   | 22.8  | .109  | -0.3 | 4.4\n",
       "... (46 rows omitted)"
      ]
     },
     "execution_count": 24,
     "metadata": {},
     "output_type": "execute_result"
    }
   ],
   "source": [
    "draft_data[1991]"
   ]
  },
  {
   "cell_type": "code",
   "execution_count": null,
   "metadata": {
    "collapsed": true
   },
   "outputs": [],
   "source": []
  }
 ],
 "metadata": {
  "kernelspec": {
   "display_name": "Python 3",
   "language": "python",
   "name": "python3"
  },
  "language_info": {
   "codemirror_mode": {
    "name": "ipython",
    "version": 3
   },
   "file_extension": ".py",
   "mimetype": "text/x-python",
   "name": "python",
   "nbconvert_exporter": "python",
   "pygments_lexer": "ipython3",
   "version": "3.5.1"
  }
 },
 "nbformat": 4,
 "nbformat_minor": 0
}
