{
 "cells": [
  {
   "cell_type": "code",
   "execution_count": 46,
   "metadata": {
    "collapsed": true
   },
   "outputs": [],
   "source": [
    "from datascience import Table\n",
    "import csv\n",
    "import numpy as np"
   ]
  },
  {
   "cell_type": "markdown",
   "metadata": {},
   "source": [
    "# Data-driven Analysis of NBA Draft Adages\n",
    "---\n",
    "## Objective\n",
    "---\n",
    "Every year, the teams in the NBA draft amateur players with the hope that they will become future star players. Over the years, many widely held assumptions have formed about which types of players to draft. This project will take a closer statistical look at these adages and try to conclude if they are legitimate or merely myth.\n",
    "\n",
    "## Data\n",
    "---\n",
    "I collected data from two main sources.\n",
    "\n",
    "1) I downloaded all draft data from Basketball Reference from the years 1990-2015. An appropriate subset will be used for each analysis. \n",
    "2) stats.nba.com has a wealth of NBA Combine measurements. This anthropometric data is at the core of some of these draft adages. \n",
    "\n",
    "The `draft_data` table includes summary statistics on all drafted players that do a good job describing how a player has performed over their career.\n",
    "\n",
    "The `anthro_data` table includes measurements of NBA prospects taken pre-draft, including height, weight, body fat percentage, wingspan, standing reach, etc."
   ]
  },
  {
   "cell_type": "code",
   "execution_count": 71,
   "metadata": {
    "collapsed": false
   },
   "outputs": [],
   "source": [
    "draft_data = None\n",
    "\n",
    "for i in range(1999, 2016):\n",
    "    with open('data/drafts/draft_NBA_' + str(i) + '_stats.csv', 'rt', encoding='ascii') as f:\n",
    "        reader = csv.reader(f)\n",
    "        j = 0\n",
    "        for row in reader:\n",
    "            if j == 0 and i == 1999:\n",
    "                draft_data = Table(['Year'] + row)\n",
    "            elif j != 0:\n",
    "                draft_data = draft_data.with_row([str(i)] + row)\n",
    "            j += 1\n",
    "            \n",
    "anthro_data = None\n",
    "\n",
    "for i in range(2000, 2012):\n",
    "    with open('data/combines/anthro_' + str(i) + '.csv', 'rt', encoding='ascii') as f:\n",
    "        reader = csv.reader(f)\n",
    "        j = 0\n",
    "        for row in reader:\n",
    "            if j == 0 and i == 2000:\n",
    "                anthro_data = Table(['Year'] + row)\n",
    "            else:\n",
    "                if row[5] != 'POSITION':\n",
    "                    anthro_data = anthro_data.with_row([str(i)] + row)\n",
    "                else:\n",
    "                    j-=1\n",
    "            j += 1"
   ]
  },
  {
   "cell_type": "code",
   "execution_count": 127,
   "metadata": {
    "collapsed": false
   },
   "outputs": [
    {
     "data": {
      "text/html": [
       "<table border=\"1\" class=\"dataframe\">\n",
       "    <thead>\n",
       "        <tr>\n",
       "            <th>Year</th> <th>Rk</th> <th>Pk</th> <th>Tm</th> <th>Player</th> <th>College</th> <th>Yrs</th> <th>G</th> <th>MP</th> <th>PTS</th> <th>TRB</th> <th>AST</th> <th>FG%</th> <th>3P%</th> <th>FT%</th> <th>WS</th> <th>WS/48</th> <th>BPM</th> <th>VORP</th>\n",
       "        </tr>\n",
       "    </thead>\n",
       "    <tbody>\n",
       "        <tr>\n",
       "            <td>1999</td> <td>1   </td> <td>1   </td> <td>CHI </td> <td>Elton Brand     </td> <td>Duke University                     </td> <td>17  </td> <td>1058</td> <td>34910</td> <td>16827</td> <td>9040 </td> <td>2184</td> <td>.500</td> <td>.095</td> <td>.736</td> <td>33.0</td> <td>15.9 </td> <td>8.5 </td> <td>2.1 </td>\n",
       "        </tr>\n",
       "    </tbody>\n",
       "        <tr>\n",
       "            <td>1999</td> <td>2   </td> <td>2   </td> <td>VAN </td> <td>Steve Francis   </td> <td>University of Maryland              </td> <td>9   </td> <td>576 </td> <td>21632</td> <td>10446</td> <td>3215 </td> <td>3473</td> <td>.429</td> <td>.341</td> <td>.797</td> <td>37.6</td> <td>18.1 </td> <td>5.6 </td> <td>6.0 </td>\n",
       "        </tr>\n",
       "    </tbody>\n",
       "        <tr>\n",
       "            <td>1999</td> <td>3   </td> <td>3   </td> <td>CHH </td> <td>Baron Davis     </td> <td>University of California Los Angeles</td> <td>13  </td> <td>835 </td> <td>28592</td> <td>13447</td> <td>3183 </td> <td>6025</td> <td>.409</td> <td>.320</td> <td>.711</td> <td>34.2</td> <td>16.1 </td> <td>3.8 </td> <td>7.2 </td>\n",
       "        </tr>\n",
       "    </tbody>\n",
       "        <tr>\n",
       "            <td>1999</td> <td>4   </td> <td>4   </td> <td>LAC </td> <td>Lamar Odom      </td> <td>University of Rhode Island          </td> <td>14  </td> <td>961 </td> <td>32131</td> <td>12781</td> <td>8059 </td> <td>3554</td> <td>.463</td> <td>.312</td> <td>.693</td> <td>33.4</td> <td>13.3 </td> <td>8.4 </td> <td>3.7 </td>\n",
       "        </tr>\n",
       "    </tbody>\n",
       "        <tr>\n",
       "            <td>1999</td> <td>5   </td> <td>5   </td> <td>TOR </td> <td>Jonathan Bender </td> <td>                                    </td> <td>8   </td> <td>262 </td> <td>3847 </td> <td>1453 </td> <td>582  </td> <td>170 </td> <td>.417</td> <td>.340</td> <td>.763</td> <td>14.7</td> <td>5.5  </td> <td>2.2 </td> <td>0.6 </td>\n",
       "        </tr>\n",
       "    </tbody>\n",
       "        <tr>\n",
       "            <td>1999</td> <td>6   </td> <td>6   </td> <td>MIN </td> <td>Wally Szczerbiak</td> <td>Miami University                    </td> <td>10  </td> <td>651 </td> <td>20052</td> <td>9195 </td> <td>2602 </td> <td>1532</td> <td>.485</td> <td>.406</td> <td>.860</td> <td>30.8</td> <td>14.1 </td> <td>4.0 </td> <td>2.4 </td>\n",
       "        </tr>\n",
       "    </tbody>\n",
       "        <tr>\n",
       "            <td>1999</td> <td>7   </td> <td>7   </td> <td>WAS </td> <td>Richard Hamilton</td> <td>University of Connecticut           </td> <td>14  </td> <td>921 </td> <td>29559</td> <td>15708</td> <td>2852 </td> <td>3125</td> <td>.449</td> <td>.346</td> <td>.852</td> <td>32.1</td> <td>17.1 </td> <td>3.1 </td> <td>3.4 </td>\n",
       "        </tr>\n",
       "    </tbody>\n",
       "        <tr>\n",
       "            <td>1999</td> <td>8   </td> <td>8   </td> <td>CLE </td> <td>Andre Miller    </td> <td>University of Utah                  </td> <td>17  </td> <td>1304</td> <td>40268</td> <td>16278</td> <td>4795 </td> <td>8524</td> <td>.461</td> <td>.217</td> <td>.807</td> <td>30.9</td> <td>12.5 </td> <td>3.7 </td> <td>6.5 </td>\n",
       "        </tr>\n",
       "    </tbody>\n",
       "        <tr>\n",
       "            <td>1999</td> <td>9   </td> <td>9   </td> <td>PHO </td> <td>Shawn Marion    </td> <td>University of Nevada Las Vegas      </td> <td>16  </td> <td>1163</td> <td>40097</td> <td>17700</td> <td>10101</td> <td>2198</td> <td>.484</td> <td>.331</td> <td>.810</td> <td>34.5</td> <td>15.2 </td> <td>8.7 </td> <td>1.9 </td>\n",
       "        </tr>\n",
       "    </tbody>\n",
       "        <tr>\n",
       "            <td>1999</td> <td>10  </td> <td>10  </td> <td>ATL </td> <td>Jason Terry     </td> <td>University of Arizona               </td> <td>17  </td> <td>1285</td> <td>39855</td> <td>18408</td> <td>3120 </td> <td>5258</td> <td>.444</td> <td>.379</td> <td>.845</td> <td>31.0</td> <td>14.3 </td> <td>2.4 </td> <td>4.1 </td>\n",
       "        </tr>\n",
       "    </tbody>\n",
       "</table>\n",
       "<p>... (997 rows omitted)</p"
      ],
      "text/plain": [
       "Year | Rk   | Pk   | Tm   | Player           | College                              | Yrs  | G    | MP    | PTS   | TRB   | AST  | FG%  | 3P%  | FT%  | WS   | WS/48 | BPM  | VORP\n",
       "1999 | 1    | 1    | CHI  | Elton Brand      | Duke University                      | 17   | 1058 | 34910 | 16827 | 9040  | 2184 | .500 | .095 | .736 | 33.0 | 15.9  | 8.5  | 2.1\n",
       "1999 | 2    | 2    | VAN  | Steve Francis    | University of Maryland               | 9    | 576  | 21632 | 10446 | 3215  | 3473 | .429 | .341 | .797 | 37.6 | 18.1  | 5.6  | 6.0\n",
       "1999 | 3    | 3    | CHH  | Baron Davis      | University of California Los Angeles | 13   | 835  | 28592 | 13447 | 3183  | 6025 | .409 | .320 | .711 | 34.2 | 16.1  | 3.8  | 7.2\n",
       "1999 | 4    | 4    | LAC  | Lamar Odom       | University of Rhode Island           | 14   | 961  | 32131 | 12781 | 8059  | 3554 | .463 | .312 | .693 | 33.4 | 13.3  | 8.4  | 3.7\n",
       "1999 | 5    | 5    | TOR  | Jonathan Bender  |                                      | 8    | 262  | 3847  | 1453  | 582   | 170  | .417 | .340 | .763 | 14.7 | 5.5   | 2.2  | 0.6\n",
       "1999 | 6    | 6    | MIN  | Wally Szczerbiak | Miami University                     | 10   | 651  | 20052 | 9195  | 2602  | 1532 | .485 | .406 | .860 | 30.8 | 14.1  | 4.0  | 2.4\n",
       "1999 | 7    | 7    | WAS  | Richard Hamilton | University of Connecticut            | 14   | 921  | 29559 | 15708 | 2852  | 3125 | .449 | .346 | .852 | 32.1 | 17.1  | 3.1  | 3.4\n",
       "1999 | 8    | 8    | CLE  | Andre Miller     | University of Utah                   | 17   | 1304 | 40268 | 16278 | 4795  | 8524 | .461 | .217 | .807 | 30.9 | 12.5  | 3.7  | 6.5\n",
       "1999 | 9    | 9    | PHO  | Shawn Marion     | University of Nevada Las Vegas       | 16   | 1163 | 40097 | 17700 | 10101 | 2198 | .484 | .331 | .810 | 34.5 | 15.2  | 8.7  | 1.9\n",
       "1999 | 10   | 10   | ATL  | Jason Terry      | University of Arizona                | 17   | 1285 | 39855 | 18408 | 3120  | 5258 | .444 | .379 | .845 | 31.0 | 14.3  | 2.4  | 4.1\n",
       "... (997 rows omitted)"
      ]
     },
     "execution_count": 127,
     "metadata": {},
     "output_type": "execute_result"
    }
   ],
   "source": [
    "draft_data"
   ]
  },
  {
   "cell_type": "code",
   "execution_count": 75,
   "metadata": {
    "collapsed": false
   },
   "outputs": [
    {
     "data": {
      "text/html": [
       "<table border=\"1\" class=\"dataframe\">\n",
       "    <thead>\n",
       "        <tr>\n",
       "            <th>Year</th> <th>TEMP_PLAYER_ID</th> <th>PLAYER_ID</th> <th>FIRST_NAME</th> <th>LAST_NAME</th> <th>PLAYER_NAME</th> <th>POSITION</th> <th>HEIGHT_WO_SHOES</th> <th>HEIGHT_WO_SHOES_FT_IN</th> <th>HEIGHT_W_SHOES</th> <th>HEIGHT_W_SHOES_FT_IN</th> <th>WEIGHT</th> <th>WINGSPAN</th> <th>WINGSPAN_FT_IN</th> <th>STANDING_REACH</th> <th>STANDING_REACH_FT_IN</th> <th>BODY_FAT_PCT</th> <th>HAND_LENGTH</th> <th>HAND_WIDTH</th>\n",
       "        </tr>\n",
       "    </thead>\n",
       "    <tbody>\n",
       "        <tr>\n",
       "            <td>2000</td> <td>              </td> <td>2124     </td> <td>Malik     </td> <td>Allen    </td> <td>Malik Allen     </td> <td>PF-C    </td> <td>80.25          </td> <td>6' 8.25''            </td> <td>              </td> <td>                    </td> <td>271   </td> <td>86.5    </td> <td>7' 2.5''      </td> <td>109.0         </td> <td>9' 1''              </td> <td>            </td> <td>           </td> <td>          </td>\n",
       "        </tr>\n",
       "    </tbody>\n",
       "        <tr>\n",
       "            <td>2000</td> <td>              </td> <td>12019    </td> <td>Harold    </td> <td>Arceneaux</td> <td>Harold Arceneaux</td> <td>SG-SF   </td> <td>76.5           </td> <td>6' 4.5''             </td> <td>              </td> <td>                    </td> <td>219   </td> <td>80.5    </td> <td>6' 8.5''      </td> <td>103.0         </td> <td>8' 7''              </td> <td>            </td> <td>           </td> <td>          </td>\n",
       "        </tr>\n",
       "    </tbody>\n",
       "        <tr>\n",
       "            <td>2000</td> <td>              </td> <td>12020    </td> <td>Lamont    </td> <td>Barnes   </td> <td>Lamont Barnes   </td> <td>PF-C    </td> <td>80.5           </td> <td>6' 8.5''             </td> <td>              </td> <td>                    </td> <td>235.5 </td> <td>87.5    </td> <td>7' 3.5''      </td> <td>108.0         </td> <td>9' 0''              </td> <td>            </td> <td>           </td> <td>          </td>\n",
       "        </tr>\n",
       "    </tbody>\n",
       "        <tr>\n",
       "            <td>2000</td> <td>              </td> <td>12131    </td> <td>Mario     </td> <td>Bland    </td> <td>Mario Bland     </td> <td>PF      </td> <td>77.5           </td> <td>6' 5.5''             </td> <td>              </td> <td>                    </td> <td>287   </td> <td>84.0    </td> <td>7' 0''        </td> <td>103.0         </td> <td>8' 7''              </td> <td>            </td> <td>           </td> <td>          </td>\n",
       "        </tr>\n",
       "    </tbody>\n",
       "        <tr>\n",
       "            <td>2000</td> <td>              </td> <td>2056     </td> <td>Primoz    </td> <td>Brezec   </td> <td>Primoz Brezec   </td> <td>C       </td> <td>84.75          </td> <td>7' 0.75''            </td> <td>              </td> <td>                    </td> <td>243   </td> <td>86.0    </td> <td>7' 2''        </td> <td>110.0         </td> <td>9' 2''              </td> <td>            </td> <td>           </td> <td>          </td>\n",
       "        </tr>\n",
       "    </tbody>\n",
       "        <tr>\n",
       "            <td>2000</td> <td>              </td> <td>2081     </td> <td>Ernest    </td> <td>Brown    </td> <td>Ernest Brown    </td> <td>C       </td> <td>82.0           </td> <td>6' 10''              </td> <td>              </td> <td>                    </td> <td>222.5 </td> <td>85.25   </td> <td>7' 1.25''     </td> <td>109.5         </td> <td>9' 1.5''            </td> <td>            </td> <td>           </td> <td>          </td>\n",
       "        </tr>\n",
       "    </tbody>\n",
       "        <tr>\n",
       "            <td>2000</td> <td>              </td> <td>2049     </td> <td>Speedy    </td> <td>Claxton  </td> <td>Speedy Claxton  </td> <td>PG      </td> <td>70.5           </td> <td>5' 10.5''            </td> <td>              </td> <td>                    </td> <td>166   </td> <td>72.0    </td> <td>6' 0''        </td> <td>94.5          </td> <td>7' 10.5''           </td> <td>            </td> <td>           </td> <td>          </td>\n",
       "        </tr>\n",
       "    </tbody>\n",
       "        <tr>\n",
       "            <td>2000</td> <td>              </td> <td>12132    </td> <td>Eric      </td> <td>Coley    </td> <td>Eric Coley      </td> <td>SG-SF   </td> <td>76.0           </td> <td>6' 4''               </td> <td>              </td> <td>                    </td> <td>205   </td> <td>83.0    </td> <td>6' 11''       </td> <td>102.0         </td> <td>8' 6''              </td> <td>            </td> <td>           </td> <td>          </td>\n",
       "        </tr>\n",
       "    </tbody>\n",
       "        <tr>\n",
       "            <td>2000</td> <td>              </td> <td>12133    </td> <td>Ed        </td> <td>Cota     </td> <td>Ed Cota         </td> <td>PG      </td> <td>72.25          </td> <td>6' 0.25''            </td> <td>              </td> <td>                    </td> <td>189   </td> <td>76.0    </td> <td>6' 4''        </td> <td>96.5          </td> <td>8' 0.5''            </td> <td>            </td> <td>           </td> <td>          </td>\n",
       "        </tr>\n",
       "    </tbody>\n",
       "        <tr>\n",
       "            <td>2000</td> <td>              </td> <td>12134    </td> <td>Schea     </td> <td>Cotton   </td> <td>Schea Cotton    </td> <td>SF      </td> <td>76.25          </td> <td>6' 4.25''            </td> <td>              </td> <td>                    </td> <td>219.5 </td> <td>79.0    </td> <td>6' 7''        </td> <td>100.0         </td> <td>8' 4''              </td> <td>            </td> <td>           </td> <td>          </td>\n",
       "        </tr>\n",
       "    </tbody>\n",
       "</table>\n",
       "<p>... (836 rows omitted)</p"
      ],
      "text/plain": [
       "Year | TEMP_PLAYER_ID | PLAYER_ID | FIRST_NAME | LAST_NAME | PLAYER_NAME      | POSITION | HEIGHT_WO_SHOES | HEIGHT_WO_SHOES_FT_IN | HEIGHT_W_SHOES | HEIGHT_W_SHOES_FT_IN | WEIGHT | WINGSPAN | WINGSPAN_FT_IN | STANDING_REACH | STANDING_REACH_FT_IN | BODY_FAT_PCT | HAND_LENGTH | HAND_WIDTH\n",
       "2000 |                | 2124      | Malik      | Allen     | Malik Allen      | PF-C     | 80.25           | 6' 8.25''             |                |                      | 271    | 86.5     | 7' 2.5''       | 109.0          | 9' 1''               |              |             |\n",
       "2000 |                | 12019     | Harold     | Arceneaux | Harold Arceneaux | SG-SF    | 76.5            | 6' 4.5''              |                |                      | 219    | 80.5     | 6' 8.5''       | 103.0          | 8' 7''               |              |             |\n",
       "2000 |                | 12020     | Lamont     | Barnes    | Lamont Barnes    | PF-C     | 80.5            | 6' 8.5''              |                |                      | 235.5  | 87.5     | 7' 3.5''       | 108.0          | 9' 0''               |              |             |\n",
       "2000 |                | 12131     | Mario      | Bland     | Mario Bland      | PF       | 77.5            | 6' 5.5''              |                |                      | 287    | 84.0     | 7' 0''         | 103.0          | 8' 7''               |              |             |\n",
       "2000 |                | 2056      | Primoz     | Brezec    | Primoz Brezec    | C        | 84.75           | 7' 0.75''             |                |                      | 243    | 86.0     | 7' 2''         | 110.0          | 9' 2''               |              |             |\n",
       "2000 |                | 2081      | Ernest     | Brown     | Ernest Brown     | C        | 82.0            | 6' 10''               |                |                      | 222.5  | 85.25    | 7' 1.25''      | 109.5          | 9' 1.5''             |              |             |\n",
       "2000 |                | 2049      | Speedy     | Claxton   | Speedy Claxton   | PG       | 70.5            | 5' 10.5''             |                |                      | 166    | 72.0     | 6' 0''         | 94.5           | 7' 10.5''            |              |             |\n",
       "2000 |                | 12132     | Eric       | Coley     | Eric Coley       | SG-SF    | 76.0            | 6' 4''                |                |                      | 205    | 83.0     | 6' 11''        | 102.0          | 8' 6''               |              |             |\n",
       "2000 |                | 12133     | Ed         | Cota      | Ed Cota          | PG       | 72.25           | 6' 0.25''             |                |                      | 189    | 76.0     | 6' 4''         | 96.5           | 8' 0.5''             |              |             |\n",
       "2000 |                | 12134     | Schea      | Cotton    | Schea Cotton     | SF       | 76.25           | 6' 4.25''             |                |                      | 219.5  | 79.0     | 6' 7''         | 100.0          | 8' 4''               |              |             |\n",
       "... (836 rows omitted)"
      ]
     },
     "execution_count": 75,
     "metadata": {},
     "output_type": "execute_result"
    }
   ],
   "source": [
    "anthro_data"
   ]
  },
  {
   "cell_type": "markdown",
   "metadata": {},
   "source": [
    "## Summary\n",
    "---\n",
    "Anthropometric data is pretty important. Perhaps we'd like to see the average 'size' of players at each position. "
   ]
  },
  {
   "cell_type": "code",
   "execution_count": 128,
   "metadata": {
    "collapsed": true
   },
   "outputs": [],
   "source": [
    "anthro_data = anthro_data.where(anthro_data.column(\"HEIGHT_WO_SHOES\") != \"\")\n",
    "anthro_data['BMI'] = np.divide(anthro_data.apply(lambda x: float(x),'WEIGHT'), (anthro_data.apply(lambda x: float(x)*float(x),'HEIGHT_WO_SHOES')))*703\n"
   ]
  },
  {
   "cell_type": "markdown",
   "metadata": {},
   "source": [
    "### Centers\n",
    "---\n",
    "What does an incoming NBA Center look like?"
   ]
  },
  {
   "cell_type": "code",
   "execution_count": 142,
   "metadata": {
    "collapsed": false
   },
   "outputs": [
    {
     "name": "stdout",
     "output_type": "stream",
     "text": [
      "An incoming NBA Center is on average 82.7318181818 inches tall.\n",
      "An incoming NBA Center is on average 256.567272727 pounds heavy.\n"
     ]
    }
   ],
   "source": [
    "centers = anthro_data.where(\"POSITION\", \"C\")\n",
    "# bigs_a.append(anthro_data.where(\"POSITION\", \"PF-C\"))\n",
    "# bigs_a.append(anthro_data.where(\"POSITION\", \"PF\"))\n",
    "centers = centers.select(['HEIGHT_WO_SHOES', 'WEIGHT'])\n",
    "\n",
    "print('An incoming NBA Center is on average ' + str(np.mean(centers.column(0).astype(np.float))) + ' inches tall.')\n",
    "print('An incoming NBA Center is on average ' + str(np.mean(centers.column(1).astype(np.float))) + ' pounds heavy.')"
   ]
  },
  {
   "cell_type": "markdown",
   "metadata": {
    "collapsed": false
   },
   "source": [
    "## Visualization\n",
    "---\n",
    "A key component to any analysis of draft adages is to quantify how good each pick turns out to be. Here we create a scatter plot and a corresponding line of best fit to describe the expected WS/48_% (win shares per 48 mins as a percentage of the entire draft class' win shares per 48 mins) for each pick in the draft. "
   ]
  },
  {
   "cell_type": "code",
   "execution_count": 126,
   "metadata": {
    "collapsed": false
   },
   "outputs": [
    {
     "data": {
      "image/png": "[encoded data removed]",
      "text/plain": [
       "<matplotlib.figure.Figure at 0x107e14fd0>"
      ]
     },
     "metadata": {},
     "output_type": "display_data"
    }
   ],
   "source": [
    "def to_int(s):\n",
    "    return int(s)\n",
    "\n",
    "win_shares = draft_data.select(['Year','Pk', 'Player', 'WS/48']).sort('Pk')\n",
    "pk = win_shares.apply(to_int, 'Pk')\n",
    "win_shares['Pk'] = pk.astype(np.float)\n",
    "\n",
    "ws = win_shares.column('WS/48')\n",
    "ws[ws == ''] = 0\n",
    "win_shares['WS/48'] = ws.astype(np.float)\n",
    "\n",
    "win_shares_sum_by_year = win_shares.group('Year', np.sum)\n",
    "win_shares_min_by_year = win_shares.group('Year', np.min)\n",
    "\n",
    "win_shares = win_shares.join('Year', win_shares_sum_by_year).select(['Year', 'Pk', 'WS/48', 'WS/48 sum'])\n",
    "win_shares = win_shares.with_column('WS/48_%', win_shares.column(2) / win_shares.column(3))\n",
    "\n",
    "# win_shares_sum_by_year.show(1)\n",
    "# win_shares_min_by_year.show(1)\n",
    "# win_shares.show(10)\n",
    "\n",
    "win_shares.select(['Pk', 'WS/48_%']).scatter('Pk', overlay=True, fit_line=True)"
   ]
  },
  {
   "cell_type": "code",
   "execution_count": null,
   "metadata": {
    "collapsed": true
   },
   "outputs": [],
   "source": []
  }
 ],
 "metadata": {
  "kernelspec": {
   "display_name": "Python 3",
   "language": "python",
   "name": "python3"
  },
  "language_info": {
   "codemirror_mode": {
    "name": "ipython",
    "version": 3
   },
   "file_extension": ".py",
   "mimetype": "text/x-python",
   "name": "python",
   "nbconvert_exporter": "python",
   "pygments_lexer": "ipython3",
   "version": "3.5.1"
  }
 },
 "nbformat": 4,
 "nbformat_minor": 0
}
